{
 "cells": [
  {
   "cell_type": "markdown",
   "id": "fe21010b",
   "metadata": {},
   "source": [
    "# Lambda Function"
   ]
  },
  {
   "cell_type": "markdown",
   "id": "75ce84d0",
   "metadata": {},
   "source": [
    "#### Python Lambda Functions are anonymous function means that the function is without a name"
   ]
  },
  {
   "cell_type": "markdown",
   "id": "37c56671",
   "metadata": {},
   "source": [
    "#### Syntax:\n",
    "lambda arguments: expression"
   ]
  },
  {
   "cell_type": "markdown",
   "id": "811c0e25",
   "metadata": {},
   "source": [
    "##### Example"
   ]
  },
  {
   "cell_type": "code",
   "execution_count": 2,
   "id": "df4d0301",
   "metadata": {},
   "outputs": [
    {
     "name": "stdout",
     "output_type": "stream",
     "text": [
      "IHSOJHSAY\n"
     ]
    }
   ],
   "source": [
    "str1 = 'YashJoshi'\n",
    " \n",
    "# lambda returns a function object\n",
    "rev_upper = lambda string: string.upper()[::-1]\n",
    "\n",
    "print(rev_upper(str1))"
   ]
  },
  {
   "cell_type": "markdown",
   "id": "efbab23a",
   "metadata": {},
   "source": [
    "### Difference Between Lambda functions and def defined function"
   ]
  },
  {
   "cell_type": "code",
   "execution_count": 4,
   "id": "021a3d8d",
   "metadata": {},
   "outputs": [
    {
     "name": "stdout",
     "output_type": "stream",
     "text": [
      "Using function defined with `def` keyword, cube: 125\n",
      "Using lambda function, cube: 125\n"
     ]
    }
   ],
   "source": [
    "def cube(y):\n",
    "    return y*y*y\n",
    " \n",
    " \n",
    "lambda_cube = lambda y: y*y*y\n",
    " \n",
    " \n",
    "# using function defined\n",
    "# using def keyword\n",
    "print(\"Using function defined with `def` keyword, cube:\", cube(5))\n",
    " \n",
    "# using the lambda function\n",
    "print(\"Using lambda function, cube:\", lambda_cube(5))"
   ]
  },
  {
   "cell_type": "markdown",
   "id": "dce6f994",
   "metadata": {},
   "source": [
    "### Practical Uses or Examples"
   ]
  },
  {
   "cell_type": "markdown",
   "id": "6f0089bd",
   "metadata": {},
   "source": [
    "#### Example 1: Python Lambda Function with List Comprehension"
   ]
  },
  {
   "cell_type": "code",
   "execution_count": 5,
   "id": "5bd42725",
   "metadata": {},
   "outputs": [
    {
     "name": "stdout",
     "output_type": "stream",
     "text": [
      "10\n",
      "20\n",
      "30\n",
      "40\n"
     ]
    }
   ],
   "source": [
    "is_even_list = [lambda arg=x: arg * 10 for x in range(1, 5)]\n",
    " \n",
    "# iterate on each lambda function\n",
    "# and invoke the function to get the calculated value\n",
    "for item in is_even_list:\n",
    "    print(item())"
   ]
  },
  {
   "cell_type": "markdown",
   "id": "1dbaed8a",
   "metadata": {},
   "source": [
    "#### Example 2: Python Lambda Function with if-else"
   ]
  },
  {
   "cell_type": "code",
   "execution_count": 6,
   "id": "f5b780b3",
   "metadata": {},
   "outputs": [
    {
     "name": "stdout",
     "output_type": "stream",
     "text": [
      "2\n"
     ]
    }
   ],
   "source": [
    "# Example of lambda function using if-else\n",
    "Max = lambda a, b : a if(a > b) else b\n",
    " \n",
    "print(Max(1, 2))"
   ]
  },
  {
   "cell_type": "markdown",
   "id": "994d1cc7",
   "metadata": {},
   "source": [
    "#### Example 3: Python Lambda with Multiple statements"
   ]
  },
  {
   "cell_type": "code",
   "execution_count": 7,
   "id": "b3aa7786",
   "metadata": {},
   "outputs": [
    {
     "name": "stdout",
     "output_type": "stream",
     "text": [
      "[3, 16, 9]\n"
     ]
    }
   ],
   "source": [
    "List = [[2,3,4],[1, 4, 16, 64],[3, 6, 9, 12]]\n",
    " \n",
    "# Sort each sublist\n",
    "sortList = lambda x: (sorted(i) for i in x)\n",
    " \n",
    "# Get the second largest element\n",
    "secondLargest = lambda x, f : [y[len(y)-2] for y in f(x)]\n",
    "res = secondLargest(List, sortList)\n",
    " \n",
    "print(res)"
   ]
  },
  {
   "cell_type": "markdown",
   "id": "0acf1285",
   "metadata": {},
   "source": [
    "## Lambda functions can be used along with built-in functions like filter(), map() and reduce()."
   ]
  },
  {
   "cell_type": "markdown",
   "id": "978a1cc7",
   "metadata": {},
   "source": [
    "## Using lambda() Function with filter()\n",
    "### filter() only keeps elements where it produces True"
   ]
  },
  {
   "cell_type": "markdown",
   "id": "b185aa40",
   "metadata": {},
   "source": [
    "### Example 1: Filter out all odd numbers using filter() and lambda function"
   ]
  },
  {
   "cell_type": "code",
   "execution_count": 8,
   "id": "771c424a",
   "metadata": {},
   "outputs": [
    {
     "name": "stdout",
     "output_type": "stream",
     "text": [
      "[5, 7, 97, 77, 23, 73, 61]\n"
     ]
    }
   ],
   "source": [
    "li = [5, 7, 22, 97, 54, 62, 77, 23, 73, 61]\n",
    " \n",
    "final_list = list(filter(lambda x: (x % 2 != 0), li))\n",
    "print(final_list)"
   ]
  },
  {
   "cell_type": "markdown",
   "id": "c6b604a9",
   "metadata": {},
   "source": [
    "Here, lambda x: (x % 2 != 0) returns True if x is odd & False for x is even.\n",
    "filter() only keeps elements where it produces True, \n",
    "thus it removes all even numbers that generated False."
   ]
  },
  {
   "cell_type": "markdown",
   "id": "fd5aa1e1",
   "metadata": {},
   "source": [
    "### Example 2: Filter all people having age more than 18, using lambda and filter() function"
   ]
  },
  {
   "cell_type": "code",
   "execution_count": 9,
   "id": "59b04855",
   "metadata": {},
   "outputs": [
    {
     "name": "stdout",
     "output_type": "stream",
     "text": [
      "[90, 59, 21, 60]\n"
     ]
    }
   ],
   "source": [
    "# Python 3 code to people above 18 yrs\n",
    "ages = [13, 90, 17, 59, 21, 60, 5]\n",
    " \n",
    "adults = list(filter(lambda age: age > 18, ages))\n",
    " \n",
    "print(adults)"
   ]
  },
  {
   "cell_type": "markdown",
   "id": "511d9ecd",
   "metadata": {},
   "source": [
    "## Using lambda() Function with map()"
   ]
  },
  {
   "cell_type": "markdown",
   "id": "833fbe8c",
   "metadata": {},
   "source": [
    "The map() function in Python takes in a function and a list as an argument.\n",
    "\n",
    "The function is called with a lambda function and a list.\n",
    "\n",
    "map() returns a New_List which contains all the lambda modified items returned by that function for each item."
   ]
  },
  {
   "cell_type": "markdown",
   "id": "e69fff25",
   "metadata": {},
   "source": [
    "### Example 1: Multiply all elements of a list by 2 using lambda and map() function"
   ]
  },
  {
   "cell_type": "code",
   "execution_count": 11,
   "id": "31bdc2e4",
   "metadata": {},
   "outputs": [
    {
     "name": "stdout",
     "output_type": "stream",
     "text": [
      "[10, 14, 44, 194, 108, 124, 154, 46, 146, 122]\n"
     ]
    }
   ],
   "source": [
    "# Python code to illustrate map() with lambda() to get double of a list.\n",
    "li = [5, 7, 22, 97, 54, 62, 77, 23, 73, 61]\n",
    " \n",
    "final_list = list(map(lambda x: x*2, li))\n",
    "\n",
    "print(final_list)"
   ]
  },
  {
   "cell_type": "markdown",
   "id": "78561cb6",
   "metadata": {},
   "source": [
    "### Example 2: Transform all elements of a list to upper case using lambda and map() function"
   ]
  },
  {
   "cell_type": "code",
   "execution_count": 13,
   "id": "8e8aba36",
   "metadata": {},
   "outputs": [
    {
     "name": "stdout",
     "output_type": "stream",
     "text": [
      "['DOG', 'CAT', 'PARROT', 'RABBIT']\n"
     ]
    }
   ],
   "source": [
    "# Python program to demonstrate use of lambda() function with map() function\n",
    "animals = ['dog', 'cat', 'parrot', 'rabbit']\n",
    " \n",
    "# here we intend to change all animal names to upper case and return the same\n",
    "uppered_animals = list(map(lambda animal: animal.upper(), animals))\n",
    " \n",
    "print(uppered_animals)"
   ]
  },
  {
   "cell_type": "markdown",
   "id": "743647ba",
   "metadata": {},
   "source": [
    "## Using lambda() Function with reduce()"
   ]
  },
  {
   "cell_type": "markdown",
   "id": "65503022",
   "metadata": {},
   "source": [
    "The reduce() function in Python takes in a function and a list as an argument. \n",
    "\n",
    "The function is called with a lambda function and an iterable \n",
    "\n",
    "A new reduced result is returned. This performs a repetitive operation over the pairs of the iterable. \n",
    "\n",
    "The reduce() function belongs to the  functools module. "
   ]
  },
  {
   "cell_type": "markdown",
   "id": "676f1516",
   "metadata": {},
   "source": [
    "### Example 1: Sum of all elements in a list using lambda and reduce() function"
   ]
  },
  {
   "cell_type": "code",
   "execution_count": 14,
   "id": "1b0de76c",
   "metadata": {},
   "outputs": [
    {
     "name": "stdout",
     "output_type": "stream",
     "text": [
      "193\n"
     ]
    }
   ],
   "source": [
    "# Python code to illustrate\n",
    "# reduce() with lambda()\n",
    "# to get sum of a list\n",
    " \n",
    "from functools import reduce\n",
    "li = [5, 8, 10, 20, 50, 100]\n",
    "sum = reduce((lambda x, y: x + y), li)\n",
    "print(sum)"
   ]
  },
  {
   "cell_type": "markdown",
   "id": "4edba718",
   "metadata": {},
   "source": [
    "Here the results of the previous two elements are added to the next element and this goes on till the end of the list like (((((5+8)+10)+20)+50)+100)."
   ]
  },
  {
   "cell_type": "markdown",
   "id": "596808ec",
   "metadata": {},
   "source": [
    "### Example 2: Find the maximum element in a list using lambda and reduce() function"
   ]
  },
  {
   "cell_type": "code",
   "execution_count": 15,
   "id": "c2e5ef1c",
   "metadata": {},
   "outputs": [
    {
     "name": "stdout",
     "output_type": "stream",
     "text": [
      "The maximum element of the list is : 6\n"
     ]
    }
   ],
   "source": [
    "# python code to demonstrate working of reduce()\n",
    "# with a lambda function\n",
    " \n",
    "# importing functools for reduce()\n",
    "import functools\n",
    " \n",
    "# initializing list\n",
    "lis = [1, 3, 5, 6, 2, ]\n",
    " \n",
    "# using reduce to compute maximum element from list\n",
    "print(\"The maximum element of the list is : \", end=\"\")\n",
    "print(functools.reduce(lambda a, b: a if a > b else b, lis))"
   ]
  },
  {
   "cell_type": "code",
   "execution_count": null,
   "id": "707582a0",
   "metadata": {},
   "outputs": [],
   "source": []
  }
 ],
 "metadata": {
  "kernelspec": {
   "display_name": "Python 3 (ipykernel)",
   "language": "python",
   "name": "python3"
  },
  "language_info": {
   "codemirror_mode": {
    "name": "ipython",
    "version": 3
   },
   "file_extension": ".py",
   "mimetype": "text/x-python",
   "name": "python",
   "nbconvert_exporter": "python",
   "pygments_lexer": "ipython3",
   "version": "3.11.1"
  }
 },
 "nbformat": 4,
 "nbformat_minor": 5
}
