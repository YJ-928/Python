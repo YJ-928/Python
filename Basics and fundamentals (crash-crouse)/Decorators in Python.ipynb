{
 "cells": [
  {
   "cell_type": "markdown",
   "id": "979564e9",
   "metadata": {},
   "source": [
    "# Python Decorators"
   ]
  },
  {
   "cell_type": "markdown",
   "id": "7f7a829c",
   "metadata": {},
   "source": [
    "Decorators in Python allow programmers to modify the behaviour of a function or class."
   ]
  },
  {
   "cell_type": "markdown",
   "id": "76fd10a8",
   "metadata": {},
   "source": [
    "Decorators allow us to wrap another function in order to extend the behaviour of the wrapped function, without permanently modifying it"
   ]
  },
  {
   "cell_type": "markdown",
   "id": "d4019793",
   "metadata": {},
   "source": [
    "### First Class Objects\n",
    "In Python, functions are first class objects i.e, functions in Python can be used or passed as arguments."
   ]
  },
  {
   "cell_type": "markdown",
   "id": "ba16e5e2",
   "metadata": {},
   "source": [
    "### Example 1: Treating the functions as objects. "
   ]
  },
  {
   "cell_type": "code",
   "execution_count": 2,
   "id": "80bdc321",
   "metadata": {},
   "outputs": [
    {
     "name": "stdout",
     "output_type": "stream",
     "text": [
      "HELLO\n",
      "HELLO\n"
     ]
    }
   ],
   "source": [
    "# Python program to illustrate functions can be treated as objects\n",
    "\n",
    "# def a func()\n",
    "def shout(text):\n",
    "    return text.upper()\n",
    "\n",
    "# calling func()\n",
    "print(shout('Hello'))\n",
    "\n",
    "# copying shout to yell\n",
    "yell = shout\n",
    "\n",
    "# calling yell\n",
    "print(yell('Hello'))"
   ]
  },
  {
   "cell_type": "markdown",
   "id": "21392cad",
   "metadata": {},
   "source": [
    "### Example 2: Passing the function as an argument "
   ]
  },
  {
   "cell_type": "code",
   "execution_count": 6,
   "id": "42fe9942",
   "metadata": {},
   "outputs": [
    {
     "name": "stdout",
     "output_type": "stream",
     "text": [
      "HI, I AM CREATED BY A FUNCTION PASSED AS AN ARGUMENT.\n",
      "hi, i am created by a function passed as an argument.\n"
     ]
    }
   ],
   "source": [
    "# Python program to illustrate functions can be passed as arguments\n",
    "\n",
    "# def shout func\n",
    "def shout(text):\n",
    "    return text.upper()\n",
    "\n",
    "# def whisper func\n",
    "def whisper(text):\n",
    "    return text.lower()\n",
    "\n",
    "# def greet func which takes another function as an argument\n",
    "def greet(func):\n",
    "    # storing the function in a variable\n",
    "    greeting = func(\"Hi, I am created by a function passed as an argument.\")\n",
    "    print (greeting)\n",
    "\n",
    "# calling shout & whisper using greet\n",
    "greet(shout)\n",
    "greet(whisper)"
   ]
  },
  {
   "cell_type": "markdown",
   "id": "543cabd2",
   "metadata": {},
   "source": [
    "### Example 3: Returning functions from another function."
   ]
  },
  {
   "cell_type": "code",
   "execution_count": 10,
   "id": "a73ce0e2",
   "metadata": {},
   "outputs": [
    {
     "name": "stdout",
     "output_type": "stream",
     "text": [
      "25\n"
     ]
    }
   ],
   "source": [
    "# Python program to illustrate Functions can return another function\n",
    "\n",
    "# def a nested func\n",
    "def create_adder(x):\n",
    "    \n",
    "    #def a inner func\n",
    "    def adder(y):\n",
    "        # returning params of outer + inner func\n",
    "        return x+y\n",
    "    \n",
    "     # returning the whole inner func\n",
    "    return adder\n",
    "\n",
    "# calling and executing the outer func\n",
    "add_15 = create_adder(15)\n",
    "\n",
    "# calling & executing the inner adder func\n",
    "print(add_15(10))"
   ]
  },
  {
   "cell_type": "markdown",
   "id": "a5174ac9",
   "metadata": {},
   "source": [
    "# Decorators"
   ]
  },
  {
   "cell_type": "markdown",
   "id": "959fc842",
   "metadata": {},
   "source": [
    "### Syntax for Decorator: "
   ]
  },
  {
   "cell_type": "markdown",
   "id": "2e9fa59d",
   "metadata": {},
   "source": [
    "@my_decorator\n",
    "\n",
    "def hello_decorator():\n",
    "    print(\"YJ\")"
   ]
  },
  {
   "cell_type": "markdown",
   "id": "81f5a152",
   "metadata": {},
   "source": [
    "##### Example:"
   ]
  },
  {
   "cell_type": "code",
   "execution_count": 12,
   "id": "9f3ece46",
   "metadata": {},
   "outputs": [
    {
     "name": "stdout",
     "output_type": "stream",
     "text": [
      "Hello, this is before function execution\n",
      "This is inside the function !!\n",
      "This is after function execution\n"
     ]
    }
   ],
   "source": [
    "# defining a decorator\n",
    "def hello_decorator(func):\n",
    " \n",
    "    # inner1 is a Wrapper function in which the argument is called\n",
    "    # inner function can access the outer local functions\n",
    "    def inner1():\n",
    "        print(\"Hello, this is before function execution\")\n",
    " \n",
    "        # calling the actual function now inside the wrapper function.\n",
    "        func()\n",
    " \n",
    "        print(\"This is after function execution\")\n",
    "         \n",
    "    return inner1\n",
    " \n",
    " \n",
    "# defining a function, to be called inside wrapper\n",
    "def function_to_be_used():\n",
    "    print(\"This is inside the function !!\")\n",
    " \n",
    " \n",
    "# passing 'function_to_be_used' inside the decorator\n",
    "function_to_be_used = hello_decorator(function_to_be_used)\n",
    " \n",
    " \n",
    "# calling the function\n",
    "function_to_be_used()"
   ]
  },
  {
   "cell_type": "markdown",
   "id": "897acb9c",
   "metadata": {},
   "source": [
    "### What if a function returns something or an argument is passed to the function?"
   ]
  },
  {
   "cell_type": "code",
   "execution_count": 13,
   "id": "71d2c759",
   "metadata": {},
   "outputs": [
    {
     "name": "stdout",
     "output_type": "stream",
     "text": [
      "before Execution\n",
      "Inside the function\n",
      "after Execution\n",
      "Sum = 3\n"
     ]
    }
   ],
   "source": [
    "def hello_decorator(func):\n",
    "    def inner1(*args, **kwargs):\n",
    "         \n",
    "        print(\"before Execution\")\n",
    "         \n",
    "        # getting the returned value\n",
    "        returned_value = func(*args, **kwargs)\n",
    "        \n",
    "        print(\"after Execution\")\n",
    "         \n",
    "        # returning the value to the original frame\n",
    "        return returned_value\n",
    "         \n",
    "    return inner1\n",
    " \n",
    " \n",
    "# adding decorator to the function\n",
    "@hello_decorator\n",
    "def sum_two_numbers(a, b):\n",
    "    print(\"Inside the function\")\n",
    "    return a + b\n",
    " \n",
    "a, b = 1, 2\n",
    " \n",
    "# getting the value through return of the function\n",
    "print(\"Sum =\", sum_two_numbers(a, b))"
   ]
  },
  {
   "cell_type": "markdown",
   "id": "5098b8ec",
   "metadata": {},
   "source": [
    "NOTE:- Here The inner function takes the argument as *args and **kwargs which means that a tuple of positional arguments or a dictionary of keyword arguments can be passed of any length. \n",
    "\n",
    "This makes it a general decorator that can decorate a function having any number of arguments."
   ]
  },
  {
   "cell_type": "markdown",
   "id": "f8a0e6ab",
   "metadata": {},
   "source": [
    "## Chaining Decorators"
   ]
  },
  {
   "cell_type": "markdown",
   "id": "614b1e53",
   "metadata": {},
   "source": [
    "Chaining decorators means decorating a function with multiple decorators."
   ]
  },
  {
   "cell_type": "markdown",
   "id": "022c3bf2",
   "metadata": {},
   "source": [
    "##### Example"
   ]
  },
  {
   "cell_type": "code",
   "execution_count": 15,
   "id": "19615910",
   "metadata": {},
   "outputs": [
    {
     "name": "stdout",
     "output_type": "stream",
     "text": [
      "4\n",
      "2\n"
     ]
    }
   ],
   "source": [
    "# code for testing decorator chaining\n",
    "def decor1(func):\n",
    "    def inner():\n",
    "        x = func()\n",
    "        return x * x\n",
    "    return inner\n",
    " \n",
    "def decor(func):\n",
    "    def inner():\n",
    "        x = func()\n",
    "        return 2 * x\n",
    "    return inner\n",
    " \n",
    "@decor1\n",
    "@decor\n",
    "def num():\n",
    "    return 1\n",
    " \n",
    "@decor\n",
    "@decor1\n",
    "def num2():\n",
    "    return 1\n",
    "   \n",
    "print(num())\n",
    "print(num2())"
   ]
  },
  {
   "cell_type": "markdown",
   "id": "2cbe44c7",
   "metadata": {},
   "source": [
    "The above example is similar to calling the function as –\n",
    "\n",
    "#### decor1 (decor (num) ):-    @decor1 @decor def num ()\n",
    "\n",
    "decor1(decor(1)) --> decor1( 2 * 1 ) --> decor1 (2) --> 2 * 2 = 4\n",
    "\n",
    "#### decor (decor1 (num2) ):-   @decor @decor1 def num2 ()\n",
    "\n",
    "decor(decor1(1)) --> decor( 1 * 1 ) --> decor (1) --> 2 * 1 = 2"
   ]
  },
  {
   "cell_type": "markdown",
   "id": "60b83e59",
   "metadata": {},
   "source": [
    "## Practice:"
   ]
  },
  {
   "cell_type": "markdown",
   "id": "e6a04014",
   "metadata": {},
   "source": [
    "### A sample code to demonstrate how decorators are created and how they work"
   ]
  },
  {
   "cell_type": "code",
   "execution_count": 3,
   "id": "2131b27e",
   "metadata": {},
   "outputs": [
    {
     "name": "stdout",
     "output_type": "stream",
     "text": [
      "It Works!!\n"
     ]
    }
   ],
   "source": [
    "# Decorators\n",
    "\n",
    "# Decorator function takes another func as an Argument\n",
    "def decorator_func(orignal_func):\n",
    "    \n",
    "    # inner wrapper function used to execute our orignal func\n",
    "    def wrapper_func():\n",
    "        return orignal_func()\n",
    "        \n",
    "        # it returns the wrapper_func without executing as '()' are missing\n",
    "    return wrapper_func\n",
    "\n",
    "def display():\n",
    "    print('It Works!!')\n",
    "    \n",
    "# here we call our decorator while giving display func as argument\n",
    "decorated_display = decorator_func(display)\n",
    "\n",
    "# inside the decorated_display our wrapper function is stored,\n",
    "# ready to be executed\n",
    "\n",
    "# executing this, executes wrapper and we get our output\n",
    "decorated_display()"
   ]
  },
  {
   "cell_type": "markdown",
   "id": "264d9e90",
   "metadata": {},
   "source": [
    "### more Python friendly way of writing the above code with the use of @"
   ]
  },
  {
   "cell_type": "code",
   "execution_count": 4,
   "id": "016759c3",
   "metadata": {},
   "outputs": [
    {
     "name": "stdout",
     "output_type": "stream",
     "text": [
      "It Works!!\n",
      "It Works!!\n"
     ]
    }
   ],
   "source": [
    "# Decorators\n",
    "\n",
    "def decorator_func(orignal_func):\n",
    "    \n",
    "    def wrapper_func():\n",
    "        return orignal_func()\n",
    "        \n",
    "    return wrapper_func\n",
    "\n",
    "@decorator_func\n",
    "def display():\n",
    "    print('It Works!!')\n",
    "    \n",
    "# now we can just run the whole thing by calling our display() func\n",
    "display()\n",
    "display()"
   ]
  },
  {
   "cell_type": "markdown",
   "id": "a7750518",
   "metadata": {},
   "source": [
    "### Decoratoring Two functions at a time using a single decorator"
   ]
  },
  {
   "cell_type": "code",
   "execution_count": 5,
   "id": "b4c93e3b",
   "metadata": {},
   "outputs": [
    {
     "name": "stdout",
     "output_type": "stream",
     "text": [
      "it works!\n",
      "Hi\n",
      "it works!\n",
      "Bye\n"
     ]
    }
   ],
   "source": [
    "def decorator(function):\n",
    "    def wrapper():\n",
    "        print('it works!')\n",
    "        return function()\n",
    "    return wrapper\n",
    "\n",
    "@decorator\n",
    "def display_Hi():\n",
    "    print('Hi')\n",
    "\n",
    "@decorator\n",
    "def display_Bye():\n",
    "    print('Bye')\n",
    "\n",
    "display_Hi()\n",
    "display_Bye()"
   ]
  },
  {
   "cell_type": "markdown",
   "id": "9e1e5aa4",
   "metadata": {},
   "source": [
    "### Decorating functions which take arguments"
   ]
  },
  {
   "cell_type": "markdown",
   "id": "54cc8bdb",
   "metadata": {},
   "source": [
    "*args **kwargs allow func() to take any number of arguments"
   ]
  },
  {
   "cell_type": "code",
   "execution_count": 6,
   "id": "f236153f",
   "metadata": {},
   "outputs": [
    {
     "name": "stdout",
     "output_type": "stream",
     "text": [
      "Hi Yash\n",
      "Bye Joshi\n"
     ]
    }
   ],
   "source": [
    "def decorator(function):\n",
    "    def wrapper(*args,**kwargs):\n",
    "        return function(*args,**kwargs)\n",
    "    return wrapper\n",
    "\n",
    "@decorator\n",
    "def display_Hi(name):\n",
    "    print('Hi',name)\n",
    "\n",
    "@decorator\n",
    "def display_Bye(name):\n",
    "    print('Bye',name)\n",
    "\n",
    "display_Hi('Yash')\n",
    "display_Bye('Joshi')"
   ]
  },
  {
   "cell_type": "markdown",
   "id": "05760565",
   "metadata": {},
   "source": [
    "## Using Classes as Decorators"
   ]
  },
  {
   "cell_type": "code",
   "execution_count": 8,
   "id": "aef79149",
   "metadata": {},
   "outputs": [
    {
     "name": "stdout",
     "output_type": "stream",
     "text": [
      "It Still Works\n",
      "Hi Yash\n",
      "It Still Works\n",
      "Bye Joshi\n"
     ]
    }
   ],
   "source": [
    "class decorator(object):\n",
    "    \n",
    "    # to call our orignal function we use init method\n",
    "    def __init__(self,orignal_func):\n",
    "        self.orignal_func = orignal_func\n",
    "    \n",
    "    # we use a call method instead of a wrapper function to execute orignal\n",
    "    def __call__(self,*args,**kwargs):\n",
    "        print('It Still Works')\n",
    "        return self.orignal_func(*args,**kwargs)\n",
    "    \n",
    "@decorator\n",
    "def display_Hi(name):\n",
    "    print('Hi',name)\n",
    "\n",
    "@decorator\n",
    "def display_Bye(name):\n",
    "    print('Bye',name)\n",
    "\n",
    "display_Hi('Yash')\n",
    "display_Bye('Joshi')"
   ]
  },
  {
   "cell_type": "markdown",
   "id": "be943ba6",
   "metadata": {},
   "source": [
    "## Practical Examples of decorators"
   ]
  },
  {
   "cell_type": "markdown",
   "id": "254b61c1",
   "metadata": {},
   "source": [
    "### Decorators as Logger's\n",
    "To check how many times did a function() executed and with what arguments"
   ]
  },
  {
   "cell_type": "code",
   "execution_count": 12,
   "id": "a3697e79",
   "metadata": {},
   "outputs": [
    {
     "name": "stdout",
     "output_type": "stream",
     "text": [
      "Yash is 22 years old.\n",
      "Raj is 23 years old.\n",
      "John is 30 years old.\n"
     ]
    }
   ],
   "source": [
    "def my_logger(orig_func):\n",
    "    \n",
    "    import logging\n",
    "    \n",
    "    logging.basicConfig(filename='{}.log'.format(orig_func.__name__), level=logging.INFO)\n",
    "    \n",
    "    def wrapper(*args,**kwargs):\n",
    "        logging.info(\n",
    "            'Ran with args: {}, and kwargs: {}'.format(args, kwargs))\n",
    "        return orig_func(*args,**kwargs)\n",
    "    \n",
    "    return wrapper\n",
    "\n",
    "@my_logger\n",
    "def display_info(name,age):\n",
    "    return print(name,'is',age,'years old.')\n",
    "\n",
    "display_info('Yash',22)\n",
    "display_info('Raj',23)\n",
    "display_info('John',30)\n",
    "\n",
    "# check the folder where this code file is stored for your log file"
   ]
  },
  {
   "cell_type": "markdown",
   "id": "568030ca",
   "metadata": {},
   "source": [
    "### Decorators as Timer's\n",
    "To check the amount of time a func() takes to executes"
   ]
  },
  {
   "cell_type": "code",
   "execution_count": 16,
   "id": "77f1dc11",
   "metadata": {},
   "outputs": [
    {
     "name": "stdout",
     "output_type": "stream",
     "text": [
      "Yash is 22 years old.\n",
      "display_info ran in 1.0068750381469727 seconds\n",
      "Raj is 23 years old.\n",
      "display_info ran in 1.001152515411377 seconds\n",
      "John is 30 years old.\n",
      "display_info ran in 1.0010631084442139 seconds\n"
     ]
    }
   ],
   "source": [
    "def my_timer(orig_func):\n",
    "    \n",
    "    import time\n",
    "    \n",
    "    def wrapper(*args,**kwargs):\n",
    "        \n",
    "        t1 = time.time()\n",
    "        result = orig_func(*args,**kwargs)\n",
    "        t2 = time.time() - t1\n",
    "        \n",
    "        print('{} ran in {} seconds'.format(orig_func.__name__,t2))\n",
    "        \n",
    "        return result\n",
    "    \n",
    "    return wrapper\n",
    "\n",
    "\n",
    "import time\n",
    "\n",
    "@my_timer\n",
    "def display_info(name,age):\n",
    "    # adding delay of 1-seconds to check if timer works\n",
    "    time.sleep(1)\n",
    "    return print(name,'is',age,'years old.')\n",
    "\n",
    "display_info('Yash',22)\n",
    "display_info('Raj',23)\n",
    "display_info('John',30)"
   ]
  },
  {
   "cell_type": "markdown",
   "id": "16ed493e",
   "metadata": {},
   "source": [
    "### Decorator Chaining, Logger + Timer "
   ]
  },
  {
   "cell_type": "markdown",
   "id": "419ea8b0",
   "metadata": {},
   "source": [
    "#### We use a Built-in method here called warps() from the functools library\n",
    "\n",
    "To preserve the data of the orignal function and ensure proper working of our chained decorators"
   ]
  },
  {
   "cell_type": "code",
   "execution_count": 17,
   "id": "4a47bbf2",
   "metadata": {},
   "outputs": [
    {
     "name": "stdout",
     "output_type": "stream",
     "text": [
      "Yash is 22 years old.\n",
      "display_info ran in 1.0061233043670654 seconds\n",
      "Raj is 23 years old.\n",
      "display_info ran in 1.0016205310821533 seconds\n",
      "John is 30 years old.\n",
      "display_info ran in 1.001004934310913 seconds\n"
     ]
    }
   ],
   "source": [
    "from functools import wraps\n",
    "\n",
    "def my_logger(orig_func):\n",
    "    \n",
    "    import logging\n",
    "    \n",
    "    logging.basicConfig(filename='{}.log'.format(orig_func.__name__), level=logging.INFO)\n",
    "    \n",
    "    @wraps(orig_func)\n",
    "    def wrapper(*args,**kwargs):\n",
    "        logging.info(\n",
    "            'Ran with args: {}, and kwargs: {}'.format(args, kwargs))\n",
    "        return orig_func(*args,**kwargs)\n",
    "    \n",
    "    return wrapper\n",
    "\n",
    "\n",
    "def my_timer(orig_func):\n",
    "    \n",
    "    import time\n",
    "    \n",
    "    @wraps(orig_func)\n",
    "    def wrapper(*args,**kwargs):\n",
    "        \n",
    "        t1 = time.time()\n",
    "        result = orig_func(*args,**kwargs)\n",
    "        t2 = time.time() - t1\n",
    "        \n",
    "        print('{} ran in {} seconds'.format(orig_func.__name__,t2))\n",
    "        \n",
    "        return result\n",
    "    \n",
    "    return wrapper\n",
    "\n",
    "\n",
    "import time\n",
    "\n",
    "@my_logger\n",
    "@my_timer\n",
    "def display_info(name,age):\n",
    "    # adding delay of 1-seconds to check if timer works\n",
    "    time.sleep(1)\n",
    "    return print(name,'is',age,'years old.')\n",
    "\n",
    "display_info('Yash',22)\n",
    "display_info('Raj',23)\n",
    "display_info('John',30)"
   ]
  },
  {
   "cell_type": "code",
   "execution_count": null,
   "id": "4ff387d5",
   "metadata": {},
   "outputs": [],
   "source": []
  }
 ],
 "metadata": {
  "kernelspec": {
   "display_name": "Python 3 (ipykernel)",
   "language": "python",
   "name": "python3"
  },
  "language_info": {
   "codemirror_mode": {
    "name": "ipython",
    "version": 3
   },
   "file_extension": ".py",
   "mimetype": "text/x-python",
   "name": "python",
   "nbconvert_exporter": "python",
   "pygments_lexer": "ipython3",
   "version": "3.11.1"
  }
 },
 "nbformat": 4,
 "nbformat_minor": 5
}
