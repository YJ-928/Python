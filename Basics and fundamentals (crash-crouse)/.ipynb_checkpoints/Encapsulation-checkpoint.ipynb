{
 "cells": [
  {
   "cell_type": "markdown",
   "id": "676ecd07",
   "metadata": {},
   "source": [
    "# Encapsulation"
   ]
  },
  {
   "cell_type": "markdown",
   "id": "3e40cbd4",
   "metadata": {},
   "source": [
    "Encapsulation is one of the fundamental concepts in object-oriented programming (OOP). \n",
    "\n",
    "It puts restrictions on accessing variables and methods directly and can prevent the accidental modification of data."
   ]
  },
  {
   "cell_type": "markdown",
   "id": "bce1d420",
   "metadata": {},
   "source": [
    "### There are two types of Encapsulations in python:\n",
    "#### Protected members / variables\n",
    "#### Private members / variables"
   ]
  },
  {
   "cell_type": "markdown",
   "id": "98fdd36d",
   "metadata": {},
   "source": [
    "A class is an example of encapsulation, \n",
    "\n",
    "as it encapsulates all the data that is member functions, variables, etc. "
   ]
  },
  {
   "cell_type": "markdown",
   "id": "93e4e484",
   "metadata": {},
   "source": [
    "## Protected members"
   ]
  },
  {
   "cell_type": "markdown",
   "id": "e93954b2",
   "metadata": {},
   "source": [
    "Protected members are those members of the class that cannot be accessed outside the class but can be accessed from within the class and its subclasses."
   ]
  },
  {
   "cell_type": "markdown",
   "id": "876afaa3",
   "metadata": {},
   "source": [
    "#### In Python a single underscore “_” followed by variable makes it proctected member"
   ]
  },
  {
   "cell_type": "markdown",
   "id": "1cbe4b40",
   "metadata": {},
   "source": [
    "Although the protected variable can be accessed out of the class as well as in the derived class"
   ]
  },
  {
   "cell_type": "markdown",
   "id": "ecee753a",
   "metadata": {},
   "source": [
    "##### Example:- "
   ]
  },
  {
   "cell_type": "code",
   "execution_count": 1,
   "id": "f5667a91",
   "metadata": {},
   "outputs": [
    {
     "name": "stdout",
     "output_type": "stream",
     "text": [
      "Calling protected member of base class:  2\n",
      "Calling modified protected member outside class:  3\n",
      "Accessing protected member of obj1:  3\n",
      "Accessing protected member of obj2:  2\n"
     ]
    }
   ],
   "source": [
    "# Python program to demonstrate protected members\n",
    " \n",
    "# Creating a base class\n",
    "class Base:\n",
    "    def __init__(self):\n",
    " \n",
    "        # Protected member\n",
    "        self._a = 2\n",
    " \n",
    "# Creating a derived class\n",
    "class Derived(Base):\n",
    "    def __init__(self):\n",
    " \n",
    "        # Calling constructor of\n",
    "        # Base class\n",
    "        Base.__init__(self)\n",
    "        print(\"Calling protected member of base class: \",self._a)\n",
    " \n",
    "        # Modify the protected variable:\n",
    "        self._a = 3\n",
    "        print(\"Calling modified protected member outside class: \",self._a)\n",
    " \n",
    " \n",
    "obj1 = Derived()\n",
    " \n",
    "obj2 = Base()\n",
    " \n",
    "# Calling protected member\n",
    "# Can be accessed but should not be done due to convention\n",
    "print(\"Accessing protected member of obj1: \", obj1._a)\n",
    " \n",
    "# Accessing the protected variable outside\n",
    "print(\"Accessing protected member of obj2: \", obj2._a)"
   ]
  },
  {
   "cell_type": "markdown",
   "id": "83738a64",
   "metadata": {},
   "source": [
    "## Private members"
   ]
  },
  {
   "cell_type": "markdown",
   "id": "637628c7",
   "metadata": {},
   "source": [
    "Private members are similar to protected members, the difference is that the class members declared private should neither be accessed outside the class nor by any base class."
   ]
  },
  {
   "cell_type": "markdown",
   "id": "cb002c35",
   "metadata": {},
   "source": [
    "#### In Python a double underscore “__”  followed by variable makes it private member"
   ]
  },
  {
   "cell_type": "markdown",
   "id": "dfcca618",
   "metadata": {},
   "source": [
    "##### Example:- "
   ]
  },
  {
   "cell_type": "code",
   "execution_count": 3,
   "id": "af726fdd",
   "metadata": {},
   "outputs": [
    {
     "name": "stdout",
     "output_type": "stream",
     "text": [
      "GeeksforGeeks\n"
     ]
    },
    {
     "ename": "AttributeError",
     "evalue": "'Base' object has no attribute 'c'",
     "output_type": "error",
     "traceback": [
      "\u001b[1;31m---------------------------------------------------------------------------\u001b[0m",
      "\u001b[1;31mAttributeError\u001b[0m                            Traceback (most recent call last)",
      "Cell \u001b[1;32mIn[3], line 24\u001b[0m\n\u001b[0;32m     21\u001b[0m obj1 \u001b[38;5;241m=\u001b[39m Base()\n\u001b[0;32m     22\u001b[0m \u001b[38;5;28mprint\u001b[39m(obj1\u001b[38;5;241m.\u001b[39ma)\n\u001b[1;32m---> 24\u001b[0m \u001b[38;5;28mprint\u001b[39m(\u001b[43mobj1\u001b[49m\u001b[38;5;241;43m.\u001b[39;49m\u001b[43mc\u001b[49m) \u001b[38;5;66;03m# will raise an AttributeError\u001b[39;00m\n\u001b[0;32m     26\u001b[0m obj2 \u001b[38;5;241m=\u001b[39m Derived() \u001b[38;5;66;03m# will also raise an AtrributeError as\u001b[39;00m\n",
      "\u001b[1;31mAttributeError\u001b[0m: 'Base' object has no attribute 'c'"
     ]
    }
   ],
   "source": [
    "# Python program to demonstrate private members\n",
    " \n",
    "# Creating a Base class\n",
    "class Base:\n",
    "    def __init__(self):\n",
    "        self.a = \"GeeksforGeeks\"\n",
    "        self.__c = \"GeeksforGeeks\"\n",
    " \n",
    "# Creating a derived class\n",
    "class Derived(Base):\n",
    "    def __init__(self):\n",
    " \n",
    "        # Calling constructor of\n",
    "        # Base class\n",
    "        Base.__init__(self)\n",
    "        print(\"Calling private member of base class: \")\n",
    "        print(self.__c)\n",
    " \n",
    " \n",
    "# Driver code\n",
    "obj1 = Base()\n",
    "print(obj1.a)\n",
    " \n",
    "print(obj1.c) # will raise an AttributeError\n",
    " \n",
    "obj2 = Derived() # will also raise an AtrributeError as"
   ]
  },
  {
   "cell_type": "markdown",
   "id": "b0fbf18a",
   "metadata": {},
   "source": [
    "#### The above gives a AttributeError  as private member's are tried to accessed Or are called inside derived class.\n",
    "\n",
    "Although object c is defined , as it is def as private it does not exist outside the class"
   ]
  },
  {
   "cell_type": "code",
   "execution_count": null,
   "id": "e12c9edb",
   "metadata": {},
   "outputs": [],
   "source": []
  }
 ],
 "metadata": {
  "kernelspec": {
   "display_name": "Python 3 (ipykernel)",
   "language": "python",
   "name": "python3"
  },
  "language_info": {
   "codemirror_mode": {
    "name": "ipython",
    "version": 3
   },
   "file_extension": ".py",
   "mimetype": "text/x-python",
   "name": "python",
   "nbconvert_exporter": "python",
   "pygments_lexer": "ipython3",
   "version": "3.11.1"
  }
 },
 "nbformat": 4,
 "nbformat_minor": 5
}
