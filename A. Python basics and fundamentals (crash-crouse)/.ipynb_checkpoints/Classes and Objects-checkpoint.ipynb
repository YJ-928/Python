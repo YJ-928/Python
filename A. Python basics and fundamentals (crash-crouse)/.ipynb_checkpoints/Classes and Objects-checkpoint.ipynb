{
 "cells": [
  {
   "cell_type": "markdown",
   "id": "7447861d",
   "metadata": {},
   "source": [
    "# Classes & Objects"
   ]
  },
  {
   "cell_type": "markdown",
   "id": "e7b70a29",
   "metadata": {},
   "source": [
    "#### A class is a user-defined blueprint or prototype from which objects are created. \n",
    "\n",
    "Classes provide a means of bundling data and functionality together. Creating a new class creates a new type of object, allowing new instances of that type to be made.\n",
    "\n",
    "Each class instance can have attributes attached to it for maintaining its state. \n",
    "\n",
    "Class instances can also have methods (defined by their class) for modifying their state."
   ]
  },
  {
   "cell_type": "markdown",
   "id": "a800c40e",
   "metadata": {},
   "source": [
    "##### Example to understand need of classes better:\n",
    "let’s say you wanted to track the number of dogs that may have different attributes like breed, and age. \n",
    "\n",
    "If a list is used, the first element could be the dog’s breed while the second element could represent its age. \n",
    "\n",
    "Let’s suppose there are 100 different dogs, then how would you know which element is supposed to be which? \n",
    "\n",
    "This lacks organization and it’s the exact need for classes. "
   ]
  },
  {
   "cell_type": "markdown",
   "id": "966dea6f",
   "metadata": {},
   "source": [
    "### Syntax: Class Definition"
   ]
  },
  {
   "cell_type": "markdown",
   "id": "8ae2f548",
   "metadata": {},
   "source": [
    "### class ClassName:\n",
    "    # Statements \n",
    "    (Body of class)"
   ]
  },
  {
   "cell_type": "markdown",
   "id": "a8580901",
   "metadata": {},
   "source": [
    "### Syntax: Object Definition"
   ]
  },
  {
   "cell_type": "markdown",
   "id": "118426a5",
   "metadata": {},
   "source": [
    "### obj = ClassName()\n",
    "#### print(obj.atrr)"
   ]
  },
  {
   "cell_type": "markdown",
   "id": "ac5b2d2a",
   "metadata": {},
   "source": [
    "### Defining a class "
   ]
  },
  {
   "cell_type": "code",
   "execution_count": 1,
   "id": "4332172f",
   "metadata": {},
   "outputs": [],
   "source": [
    "# Python3 program to demonstrate defining a class\n",
    "\n",
    "class Dog:\n",
    "    pass"
   ]
  },
  {
   "cell_type": "markdown",
   "id": "de91b057",
   "metadata": {},
   "source": [
    "## Class Objects"
   ]
  },
  {
   "cell_type": "markdown",
   "id": "6efc2aee",
   "metadata": {},
   "source": [
    "An Object is an instance of a Class. \n",
    "\n",
    "A class is like a blueprint while an instance is a copy of the class with actual values."
   ]
  },
  {
   "cell_type": "markdown",
   "id": "28080896",
   "metadata": {},
   "source": [
    "##### An object consists of : "
   ]
  },
  {
   "cell_type": "markdown",
   "id": "6cadf430",
   "metadata": {},
   "source": [
    "### State: \n",
    "It is represented by the attributes of an object. It also reflects the properties of an object.\n",
    "\n",
    "### Behaviour: \n",
    "It is represented by the methods of an object. It also reflects the response of an object to other objects.\n",
    "\n",
    "### Identity: \n",
    "It gives a unique name to an object and enables one object to interact with other objects."
   ]
  },
  {
   "cell_type": "markdown",
   "id": "9fa82db1",
   "metadata": {},
   "source": [
    "#### Declaring an object"
   ]
  },
  {
   "cell_type": "code",
   "execution_count": 3,
   "id": "09c39336",
   "metadata": {},
   "outputs": [
    {
     "name": "stdout",
     "output_type": "stream",
     "text": [
      "mammal\n",
      "dog\n",
      "I'm a mammal\n",
      "I'm a dog\n"
     ]
    }
   ],
   "source": [
    "# Python3 program to demonstrate instantiating a class\n",
    " \n",
    "class Dog:\n",
    " \n",
    "    # A simple class attribute\n",
    "    attr1 = \"mammal\"\n",
    "    attr2 = \"dog\"\n",
    " \n",
    "    # A sample method\n",
    "    def fun(self):\n",
    "        print(\"I'm a\", self.attr1)\n",
    "        print(\"I'm a\", self.attr2)\n",
    " \n",
    " \n",
    "# Driver code Object creation\n",
    "Rodger = Dog()\n",
    " \n",
    "# Accessing class attributes and method through objects\n",
    "print(Rodger.attr1)\n",
    "print(Rodger.attr2)\n",
    "Rodger.fun()"
   ]
  },
  {
   "cell_type": "markdown",
   "id": "ba828ac2",
   "metadata": {},
   "source": [
    "## The self"
   ]
  },
  {
   "cell_type": "markdown",
   "id": "0ae2ed8f",
   "metadata": {},
   "source": [
    "Class methods must have an extra first parameter in the method definition. \n",
    "\n",
    "We do not give a value for this parameter when we call the method, Python provides it.\n",
    "\n",
    "Thus we have a method that takes no arguments, but we still have one argument."
   ]
  },
  {
   "cell_type": "markdown",
   "id": "39aea5fa",
   "metadata": {},
   "source": [
    "##  __ init  __ method"
   ]
  },
  {
   "cell_type": "markdown",
   "id": "c7585d9c",
   "metadata": {},
   "source": [
    "The __ init __ method is similar to constructors\n",
    "\n",
    "Constructors are used to initialize the object’s state. \n",
    "\n",
    "Like methods, a constructor also contains a set of instructions that are executed at the time of Object creation"
   ]
  },
  {
   "cell_type": "markdown",
   "id": "f3b86775",
   "metadata": {},
   "source": [
    "##### Example"
   ]
  },
  {
   "cell_type": "code",
   "execution_count": 4,
   "id": "efa6e2d2",
   "metadata": {},
   "outputs": [
    {
     "name": "stdout",
     "output_type": "stream",
     "text": [
      "Hello, my name is Nikhil\n"
     ]
    }
   ],
   "source": [
    "# Sample class with init method\n",
    "class Person:\n",
    " \n",
    "    # init method or constructor\n",
    "    def __init__(self, name):\n",
    "        self.name = name\n",
    " \n",
    "    # Sample Method\n",
    "    def say_hi(self):\n",
    "        print('Hello, my name is', self.name)\n",
    " \n",
    " \n",
    "p = Person('Nikhil')\n",
    "p.say_hi()"
   ]
  },
  {
   "cell_type": "markdown",
   "id": "469268cc",
   "metadata": {},
   "source": [
    "## Class and Instance Variables"
   ]
  },
  {
   "cell_type": "markdown",
   "id": "c63df5bd",
   "metadata": {},
   "source": [
    "### Defining instance variables using a constructor. "
   ]
  },
  {
   "cell_type": "code",
   "execution_count": 5,
   "id": "79caa105",
   "metadata": {},
   "outputs": [
    {
     "name": "stdout",
     "output_type": "stream",
     "text": [
      "Rodger details:\n",
      "Rodger is a dog\n",
      "Breed:  Pug\n",
      "Color:  brown\n",
      "\n",
      "Buzo details:\n",
      "Buzo is a dog\n",
      "Breed:  Bulldog\n",
      "Color:  black\n",
      "\n",
      "Accessing class variable using class name\n",
      "dog\n"
     ]
    }
   ],
   "source": [
    "# Python3 program to show that the variables with a value\n",
    "# assigned in the class declaration, are class variables and\n",
    "# variables inside methods and constructors are instance variables.\n",
    " \n",
    "# Class for Dog\n",
    " \n",
    "class Dog:\n",
    " \n",
    "    # Class Variable\n",
    "    animal = 'dog'\n",
    " \n",
    "    # The init method or constructor\n",
    "    def __init__(self, breed, color):\n",
    " \n",
    "        # Instance Variable\n",
    "        self.breed = breed\n",
    "        self.color = color\n",
    " \n",
    " \n",
    "# Objects of Dog class\n",
    "Rodger = Dog(\"Pug\", \"brown\")\n",
    "Buzo = Dog(\"Bulldog\", \"black\")\n",
    " \n",
    "print('Rodger details:')\n",
    "print('Rodger is a', Rodger.animal)\n",
    "print('Breed: ', Rodger.breed)\n",
    "print('Color: ', Rodger.color)\n",
    " \n",
    "print('\\nBuzo details:')\n",
    "print('Buzo is a', Buzo.animal)\n",
    "print('Breed: ', Buzo.breed)\n",
    "print('Color: ', Buzo.color)\n",
    " \n",
    "# Class variables can be accessed using class name also\n",
    "print(\"\\nAccessing class variable using class name\")\n",
    "print(Dog.animal)"
   ]
  },
  {
   "cell_type": "markdown",
   "id": "a9824d9a",
   "metadata": {},
   "source": [
    "### Defining instance variables using the normal method."
   ]
  },
  {
   "cell_type": "code",
   "execution_count": 6,
   "id": "e418655e",
   "metadata": {},
   "outputs": [
    {
     "name": "stdout",
     "output_type": "stream",
     "text": [
      "brown\n"
     ]
    }
   ],
   "source": [
    "# program to show that we can create instance variables inside methods\n",
    " \n",
    "# Class for Dog\n",
    "\n",
    "class Dog:\n",
    " \n",
    "    # Class Variable\n",
    "    animal = 'dog'\n",
    " \n",
    "    # The init method or constructor\n",
    "    def __init__(self, breed):\n",
    " \n",
    "        # Instance Variable\n",
    "        self.breed = breed\n",
    " \n",
    "    # Adds an instance variable\n",
    "    def setColor(self, color):\n",
    "        self.color = color\n",
    " \n",
    "    # Retrieves instance variable\n",
    "    def getColor(self):\n",
    "        return self.color\n",
    " \n",
    " \n",
    "# Driver Code\n",
    "Rodger = Dog(\"pug\")\n",
    "Rodger.setColor(\"brown\")\n",
    "print(Rodger.getColor())"
   ]
  },
  {
   "cell_type": "code",
   "execution_count": null,
   "id": "a8f4be86",
   "metadata": {},
   "outputs": [],
   "source": []
  }
 ],
 "metadata": {
  "kernelspec": {
   "display_name": "Python 3 (ipykernel)",
   "language": "python",
   "name": "python3"
  },
  "language_info": {
   "codemirror_mode": {
    "name": "ipython",
    "version": 3
   },
   "file_extension": ".py",
   "mimetype": "text/x-python",
   "name": "python",
   "nbconvert_exporter": "python",
   "pygments_lexer": "ipython3",
   "version": "3.11.1"
  }
 },
 "nbformat": 4,
 "nbformat_minor": 5
}
