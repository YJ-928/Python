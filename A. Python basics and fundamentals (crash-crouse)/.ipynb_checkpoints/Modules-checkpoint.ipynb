{
 "cells": [
  {
   "cell_type": "markdown",
   "id": "8f8cd82a",
   "metadata": {},
   "source": [
    "# Modules"
   ]
  },
  {
   "cell_type": "markdown",
   "id": "de27c01c",
   "metadata": {},
   "source": [
    "### Creating a simple calculator module"
   ]
  },
  {
   "cell_type": "code",
   "execution_count": 1,
   "id": "a07f3ced",
   "metadata": {},
   "outputs": [],
   "source": [
    "# Module saved as Calc.py\n",
    "def add(x, y):\n",
    "    return (x+y)\n",
    " \n",
    "def subtract(x, y):\n",
    "    return (x-y)"
   ]
  },
  {
   "cell_type": "markdown",
   "id": "6ca1e25d",
   "metadata": {},
   "source": [
    "### Import Created module:\n",
    "    Syntax: import module_name"
   ]
  },
  {
   "cell_type": "markdown",
   "id": "7cb905fa",
   "metadata": {},
   "source": [
    "## from - import statements "
   ]
  },
  {
   "cell_type": "code",
   "execution_count": 2,
   "id": "c377403c",
   "metadata": {
    "scrolled": true
   },
   "outputs": [
    {
     "name": "stdout",
     "output_type": "stream",
     "text": [
      "4.0\n",
      "720\n"
     ]
    }
   ],
   "source": [
    "# importing sqrt() and factorial from the\n",
    "# module math\n",
    "\n",
    "from math import sqrt, factorial\n",
    " \n",
    "# if we simply do \"import math\", then\n",
    "# math.sqrt(16) and math.factorial()\n",
    "# are required.\n",
    "print(sqrt(16))\n",
    "print(factorial(6))"
   ]
  },
  {
   "cell_type": "markdown",
   "id": "1f958845",
   "metadata": {},
   "source": [
    "### Import all functions from the module:\n",
    "    Syntax: from module_name import *(star/astrik)"
   ]
  },
  {
   "cell_type": "code",
   "execution_count": 4,
   "id": "08b25918",
   "metadata": {},
   "outputs": [
    {
     "name": "stdout",
     "output_type": "stream",
     "text": [
      "4.0\n",
      "720\n"
     ]
    }
   ],
   "source": [
    "# importing sqrt() and factorial from the\n",
    "# module math\n",
    "\n",
    "from math import *\n",
    " \n",
    "# if we simply do \"import math\", then\n",
    "# math.sqrt(16) and math.factorial()\n",
    "# are required.\n",
    "print(sqrt(16))\n",
    "print(factorial(6))"
   ]
  },
  {
   "cell_type": "code",
   "execution_count": null,
   "id": "633ebd51",
   "metadata": {},
   "outputs": [],
   "source": []
  }
 ],
 "metadata": {
  "kernelspec": {
   "display_name": "Python 3 (ipykernel)",
   "language": "python",
   "name": "python3"
  },
  "language_info": {
   "codemirror_mode": {
    "name": "ipython",
    "version": 3
   },
   "file_extension": ".py",
   "mimetype": "text/x-python",
   "name": "python",
   "nbconvert_exporter": "python",
   "pygments_lexer": "ipython3",
   "version": "3.11.1"
  }
 },
 "nbformat": 4,
 "nbformat_minor": 5
}
