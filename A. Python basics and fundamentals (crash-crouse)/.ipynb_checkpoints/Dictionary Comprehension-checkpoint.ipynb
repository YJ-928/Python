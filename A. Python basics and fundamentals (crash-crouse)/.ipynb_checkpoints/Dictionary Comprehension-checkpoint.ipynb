{
 "cells": [
  {
   "cell_type": "markdown",
   "id": "1926adff",
   "metadata": {},
   "source": [
    "# Dictionary Comprehension"
   ]
  },
  {
   "cell_type": "markdown",
   "id": "5d8177ad",
   "metadata": {},
   "source": [
    "## Syntax"
   ]
  },
  {
   "cell_type": "markdown",
   "id": "f3bc4921",
   "metadata": {},
   "source": [
    "### My_Dict = { Key:Value loop (Key,Value) Condition }"
   ]
  },
  {
   "cell_type": "markdown",
   "id": "783c0730",
   "metadata": {},
   "source": [
    "#### Python Dictionary Comprehension Example"
   ]
  },
  {
   "cell_type": "code",
   "execution_count": 1,
   "id": "b6997052",
   "metadata": {},
   "outputs": [
    {
     "name": "stdout",
     "output_type": "stream",
     "text": [
      "{'a': 1, 'b': 2, 'c': 3, 'd': 4, 'e': 5}\n"
     ]
    }
   ],
   "source": [
    "# Python code to demonstrate dictionary\n",
    "# comprehension\n",
    " \n",
    "# Lists to represent keys and values\n",
    "keys = ['a','b','c','d','e']\n",
    "values = [1,2,3,4,5] \n",
    " \n",
    "# but this line shows dict comprehension here \n",
    "myDict = { k:v for (k,v) in zip(keys, values)} \n",
    " \n",
    "print (myDict)"
   ]
  },
  {
   "cell_type": "markdown",
   "id": "4491868e",
   "metadata": {},
   "source": [
    "### Using dictionary comprehension to make dictionary"
   ]
  },
  {
   "cell_type": "markdown",
   "id": "0fdeba98",
   "metadata": {},
   "source": [
    "#### Example 1:"
   ]
  },
  {
   "cell_type": "code",
   "execution_count": 4,
   "id": "5fb72345",
   "metadata": {},
   "outputs": [
    {
     "name": "stdout",
     "output_type": "stream",
     "text": [
      "{1: 1, 2: 4, 3: 9, 4: 16, 5: 25}\n"
     ]
    }
   ],
   "source": [
    "myDict = {x:x**2 for x in [1,2,3,4,5]}\n",
    "print(myDict)"
   ]
  },
  {
   "cell_type": "markdown",
   "id": "06d203cb",
   "metadata": {},
   "source": [
    "#### Example 2: "
   ]
  },
  {
   "cell_type": "code",
   "execution_count": 9,
   "id": "de13bc2b",
   "metadata": {},
   "outputs": [],
   "source": [
    "myDict = {x.upper():x*3 for x in 'python'}"
   ]
  },
  {
   "cell_type": "code",
   "execution_count": 10,
   "id": "42b7cf43",
   "metadata": {},
   "outputs": [
    {
     "data": {
      "text/plain": [
       "{'P': 'ppp', 'Y': 'yyy', 'T': 'ttt', 'H': 'hhh', 'O': 'ooo', 'N': 'nnn'}"
      ]
     },
     "execution_count": 10,
     "metadata": {},
     "output_type": "execute_result"
    }
   ],
   "source": [
    "myDict"
   ]
  },
  {
   "cell_type": "markdown",
   "id": "da35ffa9",
   "metadata": {},
   "source": [
    "### Using conditional statements in dictionary comprehension"
   ]
  },
  {
   "cell_type": "markdown",
   "id": "8e148ec6",
   "metadata": {},
   "source": [
    "#### Example 1:"
   ]
  },
  {
   "cell_type": "code",
   "execution_count": 11,
   "id": "29c11b4a",
   "metadata": {},
   "outputs": [
    {
     "name": "stdout",
     "output_type": "stream",
     "text": [
      "{0: 0, 2: 8, 4: 64, 6: 216, 8: 512}\n"
     ]
    }
   ],
   "source": [
    "NewDict = {x:x**3 for x in range(10) if x**3 % 4 == 0}\n",
    "print(NewDict)"
   ]
  },
  {
   "cell_type": "markdown",
   "id": "3e594a6a",
   "metadata": {},
   "source": [
    "### Using nested dictionary comprehension"
   ]
  },
  {
   "cell_type": "code",
   "execution_count": 13,
   "id": "3d210043",
   "metadata": {},
   "outputs": [
    {
     "name": "stdout",
     "output_type": "stream",
     "text": [
      "{'P': {'P': 'PP', 'y': 'Py', 't': 'Pt', 'h': 'Ph', 'o': 'Po', 'n': 'Pn'}, 'y': {'P': 'yP', 'y': 'yy', 't': 'yt', 'h': 'yh', 'o': 'yo', 'n': 'yn'}, 't': {'P': 'tP', 'y': 'ty', 't': 'tt', 'h': 'th', 'o': 'to', 'n': 'tn'}, 'h': {'P': 'hP', 'y': 'hy', 't': 'ht', 'h': 'hh', 'o': 'ho', 'n': 'hn'}, 'o': {'P': 'oP', 'y': 'oy', 't': 'ot', 'h': 'oh', 'o': 'oo', 'n': 'on'}, 'n': {'P': 'nP', 'y': 'ny', 't': 'nt', 'h': 'nh', 'o': 'no', 'n': 'nn'}}\n"
     ]
    }
   ],
   "source": [
    "String = \"Python\"\n",
    "MyNesDic = {x : { y : x + y for y in String} for x in String}\n",
    "print(MyNesDic)"
   ]
  },
  {
   "cell_type": "code",
   "execution_count": null,
   "id": "74634517",
   "metadata": {},
   "outputs": [],
   "source": []
  }
 ],
 "metadata": {
  "kernelspec": {
   "display_name": "Python 3 (ipykernel)",
   "language": "python",
   "name": "python3"
  },
  "language_info": {
   "codemirror_mode": {
    "name": "ipython",
    "version": 3
   },
   "file_extension": ".py",
   "mimetype": "text/x-python",
   "name": "python",
   "nbconvert_exporter": "python",
   "pygments_lexer": "ipython3",
   "version": "3.11.1"
  }
 },
 "nbformat": 4,
 "nbformat_minor": 5
}
