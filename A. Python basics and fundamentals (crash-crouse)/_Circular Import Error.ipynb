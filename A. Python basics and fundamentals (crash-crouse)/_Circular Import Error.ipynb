{
 "cells": [
  {
   "cell_type": "markdown",
   "id": "95d9b2c8",
   "metadata": {},
   "source": [
    "# Circular Import Error"
   ]
  },
  {
   "cell_type": "markdown",
   "id": "4dfbb251",
   "metadata": {},
   "source": [
    "We run into python circular import problems if we accidentally have another file named as module’s name. \n",
    "As python prefers importing from the local current directory first and then from site-packages, it will create a circular import problem."
   ]
  },
  {
   "cell_type": "markdown",
   "id": "563b382f",
   "metadata": {},
   "source": [
    "#### The Python Circular Import error occurs when you accidentally name your working file the same as the module name and those modules depend on each other. \n",
    "This way the python opens the same file which causes a circular loop and eventually throws an error."
   ]
  },
  {
   "cell_type": "markdown",
   "id": "8e0dd196",
   "metadata": {},
   "source": [
    "### Tip: \n",
    "#### Circular import is only raised when you import object from module. It is not raised when you try to import module itself. "
   ]
  },
  {
   "cell_type": "markdown",
   "id": "b5adb6b9",
   "metadata": {},
   "source": [
    "##### Example to demonstarte"
   ]
  },
  {
   "cell_type": "markdown",
   "id": "b0f72ce2",
   "metadata": {},
   "source": [
    "###### numpy.py"
   ]
  },
  {
   "cell_type": "raw",
   "id": "8e6c99ba",
   "metadata": {},
   "source": [
    "from numpy import array\n",
    " \n",
    "x = array([1, 2, 3])"
   ]
  },
  {
   "cell_type": "raw",
   "id": "72b90457",
   "metadata": {},
   "source": [
    "Output: ImportError: cannot import name 'array' from partially initialized module 'numpy' (most likely due to a circular import) (/home/pythonpool/numpy.py)"
   ]
  },
  {
   "cell_type": "markdown",
   "id": "12f2268a",
   "metadata": {},
   "source": [
    "###### Now, rename our working file to a different name –"
   ]
  },
  {
   "cell_type": "markdown",
   "id": "93173c42",
   "metadata": {},
   "source": [
    "###### – pool_numpy.py –"
   ]
  },
  {
   "cell_type": "code",
   "execution_count": 2,
   "id": "da61930f",
   "metadata": {},
   "outputs": [
    {
     "name": "stdout",
     "output_type": "stream",
     "text": [
      "[1 2 3]\n"
     ]
    }
   ],
   "source": [
    "from numpy import array\n",
    " \n",
    "x = array([1, 2, 3])\n",
    "print(x)"
   ]
  },
  {
   "cell_type": "markdown",
   "id": "d90c1f3d",
   "metadata": {},
   "source": [
    "## Fixing Circular Imports in python"
   ]
  },
  {
   "cell_type": "markdown",
   "id": "a069bc15",
   "metadata": {},
   "source": [
    "#### There are many ways by which Circular imports can be avoided. Some of them are:"
   ]
  },
  {
   "cell_type": "markdown",
   "id": "a58ccba2",
   "metadata": {},
   "source": [
    "#### 1.Change Name of Working python script\n",
    "#### 2.Import the module\n",
    "#### 3.Avoid Circular Import\n",
    "#### 4.Merge modules\n",
    "#### 5.Import when need"
   ]
  },
  {
   "cell_type": "code",
   "execution_count": null,
   "id": "d74e36dc",
   "metadata": {},
   "outputs": [],
   "source": []
  }
 ],
 "metadata": {
  "kernelspec": {
   "display_name": "Python 3 (ipykernel)",
   "language": "python",
   "name": "python3"
  },
  "language_info": {
   "codemirror_mode": {
    "name": "ipython",
    "version": 3
   },
   "file_extension": ".py",
   "mimetype": "text/x-python",
   "name": "python",
   "nbconvert_exporter": "python",
   "pygments_lexer": "ipython3",
   "version": "3.11.1"
  }
 },
 "nbformat": 4,
 "nbformat_minor": 5
}
