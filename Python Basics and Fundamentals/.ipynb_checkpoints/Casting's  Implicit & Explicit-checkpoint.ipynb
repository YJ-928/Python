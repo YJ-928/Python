{
 "cells": [
  {
   "cell_type": "markdown",
   "id": "8d929264",
   "metadata": {},
   "source": [
    "# Type Casting"
   ]
  },
  {
   "cell_type": "markdown",
   "id": "99c24e9e",
   "metadata": {},
   "source": [
    "## Implicit type casting:"
   ]
  },
  {
   "cell_type": "markdown",
   "id": "1a4b9620",
   "metadata": {},
   "source": [
    "### Python automatically assigns the datatypes to number"
   ]
  },
  {
   "cell_type": "code",
   "execution_count": 1,
   "id": "5c726e64",
   "metadata": {
    "scrolled": true
   },
   "outputs": [
    {
     "name": "stdout",
     "output_type": "stream",
     "text": [
      "<class 'int'> <class 'float'> <class 'float'> <class 'float'>\n"
     ]
    }
   ],
   "source": [
    "a = 7\n",
    "b = 3.0\n",
    "c = a+b\n",
    "d = a*b\n",
    "\n",
    "print(type(a),type(b),type(c),type(d))"
   ]
  },
  {
   "cell_type": "markdown",
   "id": "e4199140",
   "metadata": {},
   "source": [
    "## Explicit Type Casting:"
   ]
  },
  {
   "cell_type": "markdown",
   "id": "7eb009e5",
   "metadata": {},
   "source": [
    "### We convert the datatypes based on our Requirements"
   ]
  },
  {
   "cell_type": "code",
   "execution_count": 2,
   "id": "5a585b6e",
   "metadata": {},
   "outputs": [
    {
     "name": "stdout",
     "output_type": "stream",
     "text": [
      "<class 'int'> <class 'float'> <class 'complex'>\n"
     ]
    }
   ],
   "source": [
    "a = 5\n",
    "b = float(a)\n",
    "c = complex(a)\n",
    "\n",
    "print(type(a),type(b),type(c))"
   ]
  },
  {
   "cell_type": "code",
   "execution_count": null,
   "id": "fadd4a7f",
   "metadata": {},
   "outputs": [],
   "source": []
  }
 ],
 "metadata": {
  "kernelspec": {
   "display_name": "Python 3 (ipykernel)",
   "language": "python",
   "name": "python3"
  },
  "language_info": {
   "codemirror_mode": {
    "name": "ipython",
    "version": 3
   },
   "file_extension": ".py",
   "mimetype": "text/x-python",
   "name": "python",
   "nbconvert_exporter": "python",
   "pygments_lexer": "ipython3",
   "version": "3.11.1"
  }
 },
 "nbformat": 4,
 "nbformat_minor": 5
}
