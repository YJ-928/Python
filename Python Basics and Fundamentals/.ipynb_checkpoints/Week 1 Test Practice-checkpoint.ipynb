{
 "cells": [
  {
   "cell_type": "markdown",
   "id": "f6896374",
   "metadata": {},
   "source": [
    "# DataTypes Practice Problems"
   ]
  },
  {
   "cell_type": "markdown",
   "id": "51b2e568",
   "metadata": {},
   "source": [
    "### 1.Calculate Lenght of a string"
   ]
  },
  {
   "cell_type": "code",
   "execution_count": 1,
   "id": "82e6b2bf",
   "metadata": {},
   "outputs": [
    {
     "name": "stdout",
     "output_type": "stream",
     "text": [
      "The given string is  15  Charectors Long\n"
     ]
    }
   ],
   "source": [
    "String = \"JupyterNoteBook\"\n",
    "print(\"The given string is \",len(String),\" Charectors Long\")"
   ]
  },
  {
   "cell_type": "markdown",
   "id": "2c05e2a0",
   "metadata": {},
   "source": [
    "### 2.Calculate Number of Items in a List"
   ]
  },
  {
   "cell_type": "code",
   "execution_count": 2,
   "id": "da65346d",
   "metadata": {},
   "outputs": [
    {
     "name": "stdout",
     "output_type": "stream",
     "text": [
      "The list contains 5 Items\n"
     ]
    }
   ],
   "source": [
    "def SumOfList(List):\n",
    "    items = 0\n",
    "    for item in List:\n",
    "        items += 1\n",
    "    return print(\"The list contains\",items,\"Items\")\n",
    "\n",
    "MyList = [1,2,3,'Yash',23.5]\n",
    "SumOfList(MyList)"
   ]
  },
  {
   "cell_type": "markdown",
   "id": "3a35e765",
   "metadata": {},
   "source": [
    "### 3.Multiply all items of a List"
   ]
  },
  {
   "cell_type": "code",
   "execution_count": 3,
   "id": "28d849b8",
   "metadata": {},
   "outputs": [
    {
     "name": "stdout",
     "output_type": "stream",
     "text": [
      "The Multiplication of all list items is: 362880\n"
     ]
    }
   ],
   "source": [
    "def MultiplyList(List):\n",
    "    Sum = 1\n",
    "    for x in List:\n",
    "        Sum *= x\n",
    "    return print(\"The Multiplication of all list items is:\",Sum)\n",
    "\n",
    "IntList = [1,2,3,4,5,6,7,8,9]\n",
    "MultiplyList(IntList)"
   ]
  },
  {
   "cell_type": "markdown",
   "id": "6d658aba",
   "metadata": {},
   "source": [
    "### 4. Largest and Smallest number from a list"
   ]
  },
  {
   "cell_type": "code",
   "execution_count": 4,
   "id": "31f7684f",
   "metadata": {},
   "outputs": [
    {
     "name": "stdout",
     "output_type": "stream",
     "text": [
      "99 [99, 78, 67, 56, 56, 45, 24, 23, 9, 4, 3, 1, 0]\n",
      "0 [0, 1, 3, 4, 9, 23, 24, 45, 56, 56, 67, 78, 99]\n"
     ]
    }
   ],
   "source": [
    "def Largest(List):\n",
    "    List.sort(reverse=True)\n",
    "    largest = List[0]\n",
    "    return print(largest,List)\n",
    "\n",
    "def Smallest(List):\n",
    "    List.sort()\n",
    "    smallest = List[0]\n",
    "    return print(smallest,List)\n",
    "\n",
    "MyList = [1,23,45,67,4,3,56,9,0,24,56,78,99]\n",
    "Largest(MyList)\n",
    "Smallest(MyList)"
   ]
  },
  {
   "cell_type": "markdown",
   "id": "a56ae3c0",
   "metadata": {},
   "source": [
    "### 5. Counting number of charecter Frequency in a string"
   ]
  },
  {
   "cell_type": "code",
   "execution_count": 5,
   "id": "290e25bc",
   "metadata": {},
   "outputs": [
    {
     "name": "stdout",
     "output_type": "stream",
     "text": [
      "Charector Frequency in given string are:\n",
      " {'Y': 2, 'a': 1, 's': 2, 'h': 2, 'B': 2, 'J': 2, 'o': 1, 'i': 2, 'K': 1, 'n': 1, 'g': 1}\n"
     ]
    }
   ],
   "source": [
    "def CountCharString(string):\n",
    "    Dict = {}\n",
    "    for letter in string:\n",
    "        keys = Dict.keys()\n",
    "        if letter in keys:\n",
    "            Dict[letter] += 1\n",
    "        else:\n",
    "            Dict[letter] = 1\n",
    "    return print(\"Charector Frequency in given string are:\\n\",Dict)\n",
    "\n",
    "CountCharString(\"YashBJoshiKingYBJ\")"
   ]
  },
  {
   "cell_type": "markdown",
   "id": "4773863e",
   "metadata": {},
   "source": [
    "### 6. Check and extract pallindrome strings"
   ]
  },
  {
   "cell_type": "code",
   "execution_count": 6,
   "id": "49fbccef",
   "metadata": {},
   "outputs": [
    {
     "name": "stdout",
     "output_type": "stream",
     "text": [
      "Total Pallindrome Strings in given List:\n",
      " 4 \n",
      "Those Strings are:\n",
      " ['12231', 'MaaM', 'eye', '121']\n"
     ]
    }
   ],
   "source": [
    "def PallindromeStrings(List):\n",
    "    Pallindromes = []\n",
    "    temp = 0\n",
    "    for items in List:\n",
    "        String = items\n",
    "        start = String[0]\n",
    "        end = String[-1]\n",
    "        if start == end:\n",
    "            Pallindromes.append(String)\n",
    "            temp += 1\n",
    "    return print(\"Total Pallindrome Strings in given List:\\n\",temp,\"\\n\"\n",
    "                 \"Those Strings are:\\n\",Pallindromes)\n",
    "\n",
    "StringList = ['12231','MaaM','Yash',\"eye\",'2233','121']\n",
    "PallindromeStrings(StringList)"
   ]
  },
  {
   "cell_type": "markdown",
   "id": "ca22a8dd",
   "metadata": {},
   "source": [
    "### 7. Sorting the List based on 2nd element of a Tuple"
   ]
  },
  {
   "cell_type": "code",
   "execution_count": 7,
   "id": "c78fe152",
   "metadata": {},
   "outputs": [
    {
     "name": "stdout",
     "output_type": "stream",
     "text": [
      "[(2, 1), (1, 2), (2, 3), (4, 4), (2, 5)]\n"
     ]
    }
   ],
   "source": [
    "def last(n):\n",
    "    return n[-1]\n",
    "\n",
    "def SortListLast(tuples):\n",
    "    return sorted(tuples,key=last)\n",
    "\n",
    "print(SortListLast([(2, 5), (1, 2), (4, 4), (2, 3), (2, 1)]))"
   ]
  },
  {
   "cell_type": "markdown",
   "id": "0070c73d",
   "metadata": {},
   "source": [
    "### 8. Creating sub strings using first & last 2 letters of a given string"
   ]
  },
  {
   "cell_type": "code",
   "execution_count": 8,
   "id": "70d36f8d",
   "metadata": {},
   "outputs": [
    {
     "name": "stdout",
     "output_type": "stream",
     "text": [
      "Yash\n",
      "Johi\n",
      "Nala\n",
      "Rocs\n",
      "byye\n",
      "YJYJ\n",
      "Empty String\n"
     ]
    }
   ],
   "source": [
    "def SubStringCreate(string):\n",
    "    if len(string) == 1:\n",
    "        return print(\"Empty String\")\n",
    "    elif len(string) == 2:\n",
    "        word = string + string\n",
    "        return print(word)\n",
    "    else:\n",
    "        word = string[0] + string[1] + string[-2] + string[-1]\n",
    "        return print(word)\n",
    "\n",
    "List = ['Yash','Joshi','Nala','Robotics','bye','YJ','K']\n",
    "for items in List:\n",
    "    SubStringCreate(items)"
   ]
  },
  {
   "cell_type": "markdown",
   "id": "00063d3b",
   "metadata": {},
   "source": [
    "### 8. More Efficient Code"
   ]
  },
  {
   "cell_type": "code",
   "execution_count": 9,
   "id": "5c2c7b1b",
   "metadata": {},
   "outputs": [
    {
     "name": "stdout",
     "output_type": "stream",
     "text": [
      "Yash\n",
      "Johi\n",
      "Nala\n",
      "Rocs\n",
      "byye\n",
      "YJYJ\n",
      "Empty String\n"
     ]
    }
   ],
   "source": [
    "def subString(string):\n",
    "    if len(string) < 2:\n",
    "        return print(\"Empty String\")\n",
    "    return print(string[0:2] + string[-2:])\n",
    "\n",
    "List = ['Yash','Joshi','Nala','Robotics','bye','YJ','K']\n",
    "for items in List:\n",
    "    subString(items)"
   ]
  },
  {
   "cell_type": "markdown",
   "id": "45cdfa7c",
   "metadata": {},
   "source": [
    "### 9. Program for making first letter of string unique"
   ]
  },
  {
   "cell_type": "code",
   "execution_count": 10,
   "id": "bfb1bc3e",
   "metadata": {},
   "outputs": [
    {
     "name": "stdout",
     "output_type": "stream",
     "text": [
      "Elephant\n",
      "El$phant\n",
      "Madam\n",
      "Mada$\n",
      "Eye\n",
      "Ey$\n",
      "Robotics\n",
      "Robotics\n",
      "catch\n",
      "Cat$h\n",
      "Africa\n",
      "Afric$\n",
      "America\n",
      "Americ$\n"
     ]
    }
   ],
   "source": [
    "def uniqueFirst(String):\n",
    "    print(String)\n",
    "    string = String.lower()\n",
    "    flag = string[0]\n",
    "    string = string.replace(flag,'$')\n",
    "    string = flag + string[1:]\n",
    "    String = string.capitalize()\n",
    "    return print(String)\n",
    "\n",
    "List = ['Elephant','Madam','Eye','Robotics','catch','Africa','America']\n",
    "for items in List:\n",
    "    uniqueFirst(items)"
   ]
  },
  {
   "cell_type": "markdown",
   "id": "d17cbe79",
   "metadata": {},
   "source": [
    "### 10. Program to get Concatenation & Swap starting letter of strings"
   ]
  },
  {
   "cell_type": "code",
   "execution_count": 11,
   "id": "97710df1",
   "metadata": {},
   "outputs": [
    {
     "name": "stdout",
     "output_type": "stream",
     "text": [
      "Concatenated Strings:  JoshYashi\n",
      "Concatenated Strings:  RolaNabotics\n"
     ]
    }
   ],
   "source": [
    "def concatSwap(String1,String2):\n",
    "    String1 = String1.strip()\n",
    "    String2 = String2.strip()\n",
    "    Swap1 = String1[0:2]\n",
    "    Swap2 = String2[0:2]\n",
    "    NewStr1 = Swap1 + String2[2:]\n",
    "    NewStr2 = Swap2 + String1[2:]\n",
    "    mergedStr = NewStr2 + NewStr1\n",
    "    mergedStr = mergedStr.strip()\n",
    "    return print(\"Concatenated Strings: \",mergedStr)\n",
    "\n",
    "concatSwap(\"Yash \",\"  Joshi\")\n",
    "concatSwap(\"Nala \",\" Robotics\")"
   ]
  },
  {
   "cell_type": "markdown",
   "id": "77d7c138",
   "metadata": {},
   "source": [
    "### 10. More Efficient Code "
   ]
  },
  {
   "cell_type": "code",
   "execution_count": 12,
   "id": "357d92b5",
   "metadata": {},
   "outputs": [
    {
     "name": "stdout",
     "output_type": "stream",
     "text": [
      "Josh Yashi\n",
      "Rola Nabotics\n"
     ]
    }
   ],
   "source": [
    "def CharSwap(a,b):\n",
    "    new_a = b[:2] + a[2:]\n",
    "    new_b = a[:2] + b[2:]\n",
    "    return print(new_a + ' ' + new_b)\n",
    "\n",
    "CharSwap(\"Yash\",\"Joshi\")\n",
    "CharSwap(\"Nala\",\"Robotics\")"
   ]
  },
  {
   "cell_type": "markdown",
   "id": "53bd9c78",
   "metadata": {},
   "source": [
    "### 11. Program to add \"ing\"/\"ly\" to given strings"
   ]
  },
  {
   "cell_type": "code",
   "execution_count": 13,
   "id": "e570c29c",
   "metadata": {},
   "outputs": [
    {
     "name": "stdout",
     "output_type": "stream",
     "text": [
      "Elephant --> Elephanting\n",
      "Madam --> Madaming\n",
      "String --> Stringly\n",
      "Robotics --> Roboticsing\n",
      "catch --> catching\n",
      "YJ\n"
     ]
    }
   ],
   "source": [
    "def ingly(String):\n",
    "    string = String.lower()\n",
    "    RevStr = string[::-1]\n",
    "    Temp = RevStr[0:3]\n",
    "    Last3 = Temp[::-1]\n",
    "    if len(string) < 3:\n",
    "        return print(String)\n",
    "    else:\n",
    "        if Last3 == 'ing':\n",
    "            lyStr = String + 'ly'\n",
    "            return print(String,\"-->\",lyStr)\n",
    "        else:\n",
    "            ingStr = String + 'ing'\n",
    "            return print(String,\"-->\",ingStr)\n",
    "        \n",
    "List = ['Elephant','Madam','String','Robotics','catch','YJ']\n",
    "for items in List:\n",
    "    ingly(items)"
   ]
  },
  {
   "cell_type": "markdown",
   "id": "47889abd",
   "metadata": {},
   "source": [
    "### 11. More Efficient Code"
   ]
  },
  {
   "cell_type": "code",
   "execution_count": 14,
   "id": "8beee77a",
   "metadata": {},
   "outputs": [
    {
     "name": "stdout",
     "output_type": "stream",
     "text": [
      "Elephanting\n",
      "Madaming\n",
      "Stringly\n",
      "Roboticsing\n",
      "catching\n",
      "YJ\n"
     ]
    }
   ],
   "source": [
    "def addString(string):\n",
    "    if len(string) > 2:\n",
    "        if string[-3:] == 'ing':\n",
    "            string += 'ly'\n",
    "        else: \n",
    "            string += 'ing'\n",
    "    return print(string)\n",
    "\n",
    "List = ['Elephant','Madam','String','Robotics','catch','YJ']\n",
    "for items in List:\n",
    "    addString(items)"
   ]
  },
  {
   "cell_type": "markdown",
   "id": "d7c31812",
   "metadata": {},
   "source": [
    "### 12. Positive Attitude Program \"Not\" & \"Poor\" --> \"Good\""
   ]
  },
  {
   "cell_type": "code",
   "execution_count": 15,
   "id": "f356edf0",
   "metadata": {},
   "outputs": [
    {
     "data": {
      "text/plain": [
       "'The lyrics is good!'"
      ]
     },
     "execution_count": 15,
     "metadata": {},
     "output_type": "execute_result"
    }
   ],
   "source": [
    "def makePositive(string):\n",
    "    Wnot = string.find('not')\n",
    "    Wpoor = string.find('poor')\n",
    "    if Wpoor > Wnot:\n",
    "        string = string.replace(string[Wnot:(Wpoor+4)], 'good')\n",
    "    return string\n",
    "\n",
    "makePositive('The lyrics is not that poor!')"
   ]
  },
  {
   "cell_type": "markdown",
   "id": "c63c5105",
   "metadata": {},
   "source": [
    "### 13. Largest word in the List"
   ]
  },
  {
   "cell_type": "code",
   "execution_count": 16,
   "id": "0b7ca931",
   "metadata": {},
   "outputs": [
    {
     "name": "stdout",
     "output_type": "stream",
     "text": [
      "Information is the longest word in List and is 11 letters long.\n"
     ]
    }
   ],
   "source": [
    "def largestWord(List):\n",
    "    flag = 0\n",
    "    for items in List:\n",
    "        chars = 0\n",
    "        for i in items:\n",
    "            chars +=1\n",
    "        if chars > flag:\n",
    "            word = items\n",
    "            flag = chars\n",
    "            chars = 0\n",
    "    return print(word,\"is the longest word in List and is\",flag,\"letters long.\")\n",
    "\n",
    "List = ['Elephant','Madam','String','Information','catch','YJ']\n",
    "largestWord(List)"
   ]
  },
  {
   "cell_type": "markdown",
   "id": "fdb1dd8e",
   "metadata": {},
   "source": [
    "### 14. Integer input checker"
   ]
  },
  {
   "cell_type": "code",
   "execution_count": 17,
   "id": "3c8b7f30",
   "metadata": {},
   "outputs": [
    {
     "name": "stdout",
     "output_type": "stream",
     "text": [
      "Input is an integer\n",
      "invalid literal for int() with base 10: 'Yash'\n",
      "invalid literal for int() with base 10: '234.235'\n"
     ]
    }
   ],
   "source": [
    "def checkIfInteger(a):\n",
    "    try:\n",
    "        a = int(a)\n",
    "        print(\"Input is an integer\")\n",
    "        \n",
    "    except ValueError as error:\n",
    "        print(error)\n",
    "\n",
    "checkIfInteger(10)\n",
    "checkIfInteger('Yash')\n",
    "checkIfInteger('234.235')"
   ]
  },
  {
   "cell_type": "markdown",
   "id": "cf2328d0",
   "metadata": {},
   "source": [
    "### 15. Program to sort Dictionaries by Values"
   ]
  },
  {
   "cell_type": "code",
   "execution_count": 18,
   "id": "92bbf270",
   "metadata": {},
   "outputs": [
    {
     "data": {
      "text/plain": [
       "[('Cruyff', 104),\n",
       " ('Eusebio', 120),\n",
       " ('Messi', 125),\n",
       " ('Ronaldo', 132),\n",
       " ('Pele', 150)]"
      ]
     },
     "execution_count": 18,
     "metadata": {},
     "output_type": "execute_result"
    }
   ],
   "source": [
    "def DictionarySort(Value):\n",
    "    return sorted(Value.items(),key=lambda x:x[1])\n",
    "\n",
    "DictionarySort({'Eusebio': 120, 'Cruyff': 104, 'Pele': 150, 'Ronaldo': 132, 'Messi': 125})"
   ]
  },
  {
   "cell_type": "markdown",
   "id": "4325b668",
   "metadata": {},
   "source": [
    "### 16. Program to sort Dictionaries by Keys"
   ]
  },
  {
   "cell_type": "code",
   "execution_count": 19,
   "id": "c3a751a4",
   "metadata": {},
   "outputs": [
    {
     "data": {
      "text/plain": [
       "[('Cruyff', 104),\n",
       " ('Eusebio', 120),\n",
       " ('Messi', 125),\n",
       " ('Pele', 150),\n",
       " ('Ronaldo', 132)]"
      ]
     },
     "execution_count": 19,
     "metadata": {},
     "output_type": "execute_result"
    }
   ],
   "source": [
    "def DictionarySort(Value):\n",
    "    return sorted(Value.items(),key=lambda x:x[0])\n",
    "\n",
    "DictionarySort({'Eusebio': 120, 'Cruyff': 104, 'Pele': 150, 'Ronaldo': 132, 'Messi': 125})"
   ]
  },
  {
   "cell_type": "markdown",
   "id": "667b46e6",
   "metadata": {},
   "source": [
    "### 17. Program to add Key to an existing Dictionary"
   ]
  },
  {
   "cell_type": "code",
   "execution_count": 20,
   "id": "0db4dfa9",
   "metadata": {},
   "outputs": [
    {
     "data": {
      "text/plain": [
       "{0: 10, 1: 20, 2: 30, 3: 40}"
      ]
     },
     "execution_count": 20,
     "metadata": {},
     "output_type": "execute_result"
    }
   ],
   "source": [
    "def KeyAdder(Dict,Value):\n",
    "    Dict.update(Value)\n",
    "    return Dict\n",
    "\n",
    "Dict = {0:10,1:20}\n",
    "Value = {2:30,3:40}\n",
    "KeyAdder(Dict,Value)"
   ]
  },
  {
   "cell_type": "markdown",
   "id": "498a35d2",
   "metadata": {},
   "source": [
    "### 18. Program to concatenate Dictionaries"
   ]
  },
  {
   "cell_type": "code",
   "execution_count": 21,
   "id": "faace2d1",
   "metadata": {},
   "outputs": [
    {
     "data": {
      "text/plain": [
       "{1: 10, 2: 20, 3: 30, 4: 40, 5: 50, 6: 60}"
      ]
     },
     "execution_count": 21,
     "metadata": {},
     "output_type": "execute_result"
    }
   ],
   "source": [
    "def DictConcat(Dict1,Dict2,Dict3):\n",
    "    Dict1.update(Dict2)\n",
    "    Dict1.update(Dict3)\n",
    "    return Dict1\n",
    "\n",
    "Dict1 = {1:10,2:20}\n",
    "Dict2 = {3:30,4:40}\n",
    "Dict3 = {5:50,6:60}\n",
    "DictConcat(Dict1,Dict2,Dict3)"
   ]
  },
  {
   "cell_type": "markdown",
   "id": "831dd164",
   "metadata": {},
   "source": [
    "### 19. Dictionary Key Checker"
   ]
  },
  {
   "cell_type": "code",
   "execution_count": 23,
   "id": "2abf326f",
   "metadata": {},
   "outputs": [
    {
     "name": "stdout",
     "output_type": "stream",
     "text": [
      "Enter footballer's name:\n",
      "Ronaldo\n",
      "Key found! Ronaldo : 132\n"
     ]
    }
   ],
   "source": [
    "def KeyCheck(Dict):\n",
    "    Key = input(\"Enter footballer's name:\\n\")\n",
    "    for item in Dict.keys():\n",
    "        if Key == item:\n",
    "            return print(\"Key found!\",item,\":\",Dict[item])\n",
    "    return print(\"Key not found\")\n",
    "\n",
    "Footballers = {'Eusebio': 120, 'Cruyff': 104, 'Pele': 150, 'Ronaldo': 132, 'Messi': 125}\n",
    "KeyCheck(Footballers)"
   ]
  },
  {
   "cell_type": "markdown",
   "id": "91d2c530",
   "metadata": {},
   "source": [
    "### 20. Program to Itterate over Dictionaries"
   ]
  },
  {
   "cell_type": "code",
   "execution_count": 24,
   "id": "4e1bbd27",
   "metadata": {},
   "outputs": [
    {
     "name": "stdout",
     "output_type": "stream",
     "text": [
      "Eusebio --> 120\n",
      "Cruyff --> 104\n",
      "Pele --> 150\n",
      "Ronaldo --> 132\n",
      "Messi --> 125\n"
     ]
    }
   ],
   "source": [
    "def itarateOver(Dict):\n",
    "    for Keys,Values in Dict.items():\n",
    "        print(Keys,\"-->\",Values)\n",
    "\n",
    "Footballers = {'Eusebio': 120, 'Cruyff': 104, 'Pele': 150, 'Ronaldo': 132, 'Messi': 125}\n",
    "itarateOver(Footballers)"
   ]
  },
  {
   "cell_type": "markdown",
   "id": "657e2b6d",
   "metadata": {},
   "source": [
    "### 21. Program to print a Matrix, Nested List Concept"
   ]
  },
  {
   "cell_type": "code",
   "execution_count": 25,
   "id": "50be7bd4",
   "metadata": {},
   "outputs": [
    {
     "name": "stdout",
     "output_type": "stream",
     "text": [
      "Enter the dimensions for your matrix:\n",
      "\n",
      "Enter the number of rows:\n",
      "5\n",
      "Enter the number of columns:\n",
      "9\n"
     ]
    },
    {
     "data": {
      "text/plain": [
       "[[0, 1, 2, 3, 4, 5, 6, 7, 8],\n",
       " [0, 1, 2, 3, 4, 5, 6, 7, 8],\n",
       " [0, 1, 2, 3, 4, 5, 6, 7, 8],\n",
       " [0, 1, 2, 3, 4, 5, 6, 7, 8],\n",
       " [0, 1, 2, 3, 4, 5, 6, 7, 8]]"
      ]
     },
     "execution_count": 25,
     "metadata": {},
     "output_type": "execute_result"
    }
   ],
   "source": [
    "def Matrix(rows,cols):\n",
    "    matrix = []\n",
    "    for i in range(0,rows):\n",
    "        matrix.append([])\n",
    "        for j in range(0,cols):\n",
    "            matrix[i].append(j)\n",
    "    return matrix\n",
    "\n",
    "print(\"Enter the dimensions for your matrix:\\n\")\n",
    "rows= int(input(\"Enter the number of rows:\\n\"))\n",
    "cols = int(input(\"Enter the number of columns:\\n\"))\n",
    "Matrix(rows,cols)"
   ]
  },
  {
   "cell_type": "markdown",
   "id": "59065b1b",
   "metadata": {},
   "source": [
    "### 22. Program to print a Matrix, List Comprehension Concept"
   ]
  },
  {
   "cell_type": "code",
   "execution_count": 26,
   "id": "cbb2e525",
   "metadata": {},
   "outputs": [
    {
     "name": "stdout",
     "output_type": "stream",
     "text": [
      "Enter the dimensions for your matrix:\n",
      "\n",
      "Enter the number of rows:\n",
      "5\n",
      "Enter the number of columns:\n",
      "6\n"
     ]
    },
    {
     "data": {
      "text/plain": [
       "[[0, 1, 2, 3, 4, 5],\n",
       " [0, 1, 2, 3, 4, 5],\n",
       " [0, 1, 2, 3, 4, 5],\n",
       " [0, 1, 2, 3, 4, 5],\n",
       " [0, 1, 2, 3, 4, 5]]"
      ]
     },
     "execution_count": 26,
     "metadata": {},
     "output_type": "execute_result"
    }
   ],
   "source": [
    "def Matrix(rows,cols):\n",
    "    matrix = [[col for col in range(0,cols)] for row in range(0,rows)]\n",
    "    return matrix\n",
    "\n",
    "\n",
    "print(\"Enter the dimensions for your matrix:\\n\")\n",
    "rows= int(input(\"Enter the number of rows:\\n\"))\n",
    "cols = int(input(\"Enter the number of columns:\\n\"))\n",
    "Matrix(rows,cols)"
   ]
  },
  {
   "cell_type": "markdown",
   "id": "9b79635b",
   "metadata": {},
   "source": [
    "### 23. Program to remove duplicates from a list"
   ]
  },
  {
   "cell_type": "code",
   "execution_count": 27,
   "id": "237994a5",
   "metadata": {
    "scrolled": true
   },
   "outputs": [
    {
     "data": {
      "text/plain": [
       "[0, 1, 2, 3, 4, 5, 5, 5, 6, 7, 8, 9]"
      ]
     },
     "execution_count": 27,
     "metadata": {},
     "output_type": "execute_result"
    }
   ],
   "source": [
    "def RemoveDuplicate(MyList):\n",
    "    for item in MyList:\n",
    "        Count = MyList.count(item)\n",
    "        if Count > 1:\n",
    "            MyList.remove(item)\n",
    "    MyList.sort()\n",
    "    return MyList\n",
    "    \n",
    "List = [1,2,3,5,6,3,4,5,6,1,2,5,6,7,4,3,8,9,0,7,6,5]\n",
    "RemoveDuplicate(List)"
   ]
  },
  {
   "cell_type": "markdown",
   "id": "cbed18c1",
   "metadata": {},
   "source": [
    "### 24. Program to check if the list is empty or not"
   ]
  },
  {
   "cell_type": "code",
   "execution_count": 28,
   "id": "4e97099f",
   "metadata": {},
   "outputs": [
    {
     "name": "stdout",
     "output_type": "stream",
     "text": [
      "[0, 1, 2, 3, 4, 5, 5, 5, 6, 7, 8, 9]\n",
      "Empty List\n"
     ]
    }
   ],
   "source": [
    "def CheckEmpty(List):\n",
    "        if not List:\n",
    "            return print(\"Empty List\")\n",
    "        else:\n",
    "            return print(List)\n",
    "\n",
    "MyList = [0, 1, 2, 3, 4, 5, 5, 5, 6, 7, 8, 9]\n",
    "List = []\n",
    "CheckEmpty(MyList)\n",
    "CheckEmpty(List)"
   ]
  },
  {
   "cell_type": "markdown",
   "id": "c10f21af",
   "metadata": {},
   "source": [
    "### 25. Program to Clone or Copy a List"
   ]
  },
  {
   "cell_type": "code",
   "execution_count": 29,
   "id": "0ff015e0",
   "metadata": {},
   "outputs": [
    {
     "name": "stdout",
     "output_type": "stream",
     "text": [
      "Orignal List:--->\n",
      " [0, 1, 2, 3, 4, 5, 5, 5, 6, 7, 8, 9]\n",
      "Copied List:---->\n",
      "[0, 1, 2, 3, 4, 5, 5, 5, 6, 7, 8, 9]\n"
     ]
    }
   ],
   "source": [
    "def Cloner(List):\n",
    "    print(\"Orignal List:--->\\n\",List)\n",
    "    Clone = List.copy()\n",
    "    print(\"Copied List:---->\")\n",
    "    return print(Clone)\n",
    "\n",
    "MyList = [0, 1, 2, 3, 4, 5, 5, 5, 6, 7, 8, 9]\n",
    "Cloner(MyList)"
   ]
  },
  {
   "cell_type": "markdown",
   "id": "77f67151",
   "metadata": {},
   "source": [
    "### 26. Program to remove the specified index char from non empty string"
   ]
  },
  {
   "cell_type": "code",
   "execution_count": 30,
   "id": "bf9e9205",
   "metadata": {},
   "outputs": [
    {
     "name": "stdout",
     "output_type": "stream",
     "text": [
      "YashJoshi\n",
      "YasBJoshi\n",
      "YahBJoshi\n",
      "YshBJoshi\n"
     ]
    }
   ],
   "source": [
    "def RemoveChar(String,Index):\n",
    "    Before_Index = String[ : Index]\n",
    "    After_Index = String[Index + 1 : ]\n",
    "    MyString = Before_Index + After_Index\n",
    "    return print(MyString)\n",
    "\n",
    "RemoveChar(\"YashBJoshi\",4)\n",
    "RemoveChar(\"YashBJoshi\",3)\n",
    "RemoveChar(\"YashBJoshi\",2)\n",
    "RemoveChar(\"YashBJoshi\",1)"
   ]
  },
  {
   "cell_type": "markdown",
   "id": "f0c7e254",
   "metadata": {},
   "source": [
    "### 27. Program to exchange First and Last Char of a String"
   ]
  },
  {
   "cell_type": "code",
   "execution_count": 31,
   "id": "2482042c",
   "metadata": {},
   "outputs": [
    {
     "name": "stdout",
     "output_type": "stream",
     "text": [
      "iashBJoshY\n",
      "tdvanceSofA\n",
      "salaRoboticN\n"
     ]
    }
   ],
   "source": [
    "def exchangeChar(String):\n",
    "    First_Char = String[0]\n",
    "    Last_Char = String[-1]\n",
    "    Middle_String = String[1:-1]\n",
    "    Req_String = Last_Char + Middle_String + First_Char\n",
    "    return print(Req_String)\n",
    "\n",
    "exchangeChar(\"YashBJoshi\")\n",
    "exchangeChar(\"AdvanceSoft\")\n",
    "exchangeChar(\"NalaRobotics\")"
   ]
  },
  {
   "cell_type": "markdown",
   "id": "7130fe3e",
   "metadata": {},
   "source": [
    "### 28. Program to remove Odd Index values of a string"
   ]
  },
  {
   "cell_type": "code",
   "execution_count": 32,
   "id": "ad40c105",
   "metadata": {
    "scrolled": false
   },
   "outputs": [
    {
     "name": "stdout",
     "output_type": "stream",
     "text": [
      "Given String:\n",
      " YashBJoshi\n",
      "Even String:\n",
      " YsBoh \n",
      " Odd String:\n",
      " ahJsi\n",
      "Given String:\n",
      " NalaRobotics\n",
      "Even String:\n",
      " NlRbtc \n",
      " Odd String:\n",
      " aaoois\n",
      "Given String:\n",
      " AdvanceSoft\n",
      "Even String:\n",
      " Avneot \n",
      " Odd String:\n",
      " dacSf\n"
     ]
    }
   ],
   "source": [
    "def RemoveOddEven(String):\n",
    "    print(\"Given String:\\n\",String)\n",
    "    EvenStr = \"\"\n",
    "    OddStr = \"\"\n",
    "    for letters in range(len(String)):\n",
    "        if letters % 2 == 0:\n",
    "            EvenStr = EvenStr + String[letters]\n",
    "        if letters % 2 != 0:\n",
    "            OddStr = OddStr + String[letters]\n",
    "    return print(\"Even String:\\n\",EvenStr,\"\\n Odd String:\\n\",OddStr)\n",
    "\n",
    "RemoveOddEven(\"YashBJoshi\")\n",
    "RemoveOddEven(\"NalaRobotics\")\n",
    "RemoveOddEven(\"AdvanceSoft\")"
   ]
  },
  {
   "cell_type": "markdown",
   "id": "7ce43095",
   "metadata": {},
   "source": [
    "### 29. Program to find words longer than a user given value from a List of words"
   ]
  },
  {
   "cell_type": "code",
   "execution_count": 33,
   "id": "82904ad1",
   "metadata": {},
   "outputs": [
    {
     "name": "stdout",
     "output_type": "stream",
     "text": [
      "How many letter Words do you need to extract: \n",
      "5\n",
      "Python\n",
      "Types\n",
      "Jupyter\n",
      "Sentence\n",
      "Program\n",
      "Occurences\n",
      "Tuple\n"
     ]
    }
   ],
   "source": [
    "def LongerWords(List,wordSize):\n",
    "    for word in List:\n",
    "        letter_count = 0\n",
    "        for letter in word:\n",
    "            letter_count +=1\n",
    "        if letter_count >= wordSize:\n",
    "            print(word)\n",
    "\n",
    "List = ['Python','Data','Types','Jupyter','Sentence','Program','Occurences','List','Tuple','God']\n",
    "WordSize = int(input(\"How many letter Words do you need to extract: \\n\"))\n",
    "LongerWords(List,WordSize)"
   ]
  },
  {
   "cell_type": "markdown",
   "id": "0e3635ef",
   "metadata": {},
   "source": [
    "### 30. Program to count occcurrences of a word in a sentence"
   ]
  },
  {
   "cell_type": "code",
   "execution_count": 34,
   "id": "21bf9e7f",
   "metadata": {},
   "outputs": [
    {
     "data": {
      "text/plain": [
       "{'the': 2,\n",
       " 'quick': 1,\n",
       " 'brown': 1,\n",
       " 'fox': 1,\n",
       " 'jumps': 1,\n",
       " 'over': 1,\n",
       " 'lazy': 1,\n",
       " 'dog.': 1}"
      ]
     },
     "execution_count": 34,
     "metadata": {},
     "output_type": "execute_result"
    }
   ],
   "source": [
    "def WordOccurrence(Sentence):\n",
    "    Word_Count = dict()\n",
    "    WordsList = Sentence.split()\n",
    "    for word in WordsList:\n",
    "        if word in Word_Count:\n",
    "            Word_Count[word] += 1\n",
    "        else:\n",
    "            Word_Count[word] = 1\n",
    "    return Word_Count\n",
    "\n",
    "WordOccurrence('the quick brown fox jumps over the lazy dog.')"
   ]
  },
  {
   "cell_type": "markdown",
   "id": "9d8e3fbb",
   "metadata": {},
   "source": [
    "### 31. Program to check if 2 Lists have a common element"
   ]
  },
  {
   "cell_type": "code",
   "execution_count": 35,
   "id": "1ce1b826",
   "metadata": {},
   "outputs": [
    {
     "name": "stdout",
     "output_type": "stream",
     "text": [
      "Given Lists have The common elements & they are:\n",
      " [2, 3, 4, 5, 6, 7]\n",
      "Given Lists are no common elements!\n"
     ]
    }
   ],
   "source": [
    "def CheckCommonItem(List1,List2):\n",
    "    Common_Elements = []\n",
    "    for item in List1:\n",
    "        for items in List2:\n",
    "            if item == items:\n",
    "                Common_Elements.append(item)\n",
    "    if not Common_Elements:\n",
    "        return print(\"Given Lists are no common elements!\")\n",
    "    else:\n",
    "        return print(\"Given Lists have The common elements & they are:\\n\",Common_Elements)\n",
    "\n",
    "List1 = [1,2,3,4,5,6,7,8,9]\n",
    "List2 = [6,7,5,4,3,2,0,10,11]\n",
    "List3 = [1,2,3,4,5,6,7,8,9]\n",
    "List4 = [10,11,12,13,14,15,16]\n",
    "CheckCommonItem(List1,List2)\n",
    "CheckCommonItem(List3,List4)"
   ]
  },
  {
   "cell_type": "markdown",
   "id": "962aac77",
   "metadata": {},
   "source": [
    "# List Comprehension Practice"
   ]
  },
  {
   "cell_type": "code",
   "execution_count": null,
   "id": "bab39f43",
   "metadata": {},
   "outputs": [],
   "source": []
  }
 ],
 "metadata": {
  "kernelspec": {
   "display_name": "Python 3 (ipykernel)",
   "language": "python",
   "name": "python3"
  },
  "language_info": {
   "codemirror_mode": {
    "name": "ipython",
    "version": 3
   },
   "file_extension": ".py",
   "mimetype": "text/x-python",
   "name": "python",
   "nbconvert_exporter": "python",
   "pygments_lexer": "ipython3",
   "version": "3.11.1"
  }
 },
 "nbformat": 4,
 "nbformat_minor": 5
}
