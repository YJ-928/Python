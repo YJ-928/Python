{
 "cells": [
  {
   "cell_type": "markdown",
   "id": "879e2aa3",
   "metadata": {},
   "source": [
    "# Yeild vs Return"
   ]
  },
  {
   "cell_type": "markdown",
   "id": "cbf1829e",
   "metadata": {},
   "source": [
    "### Python Yield"
   ]
  },
  {
   "cell_type": "markdown",
   "id": "93491fd6",
   "metadata": {},
   "source": [
    "It is generally used to convert a regular Python function into a generator. \n",
    "\n",
    "A generator is a special function in Python that returns a generator object to the caller."
   ]
  },
  {
   "cell_type": "markdown",
   "id": "ba0de841",
   "metadata": {},
   "source": [
    "##### Example"
   ]
  },
  {
   "cell_type": "code",
   "execution_count": 1,
   "id": "0da8f4c8",
   "metadata": {},
   "outputs": [
    {
     "name": "stdout",
     "output_type": "stream",
     "text": [
      "The number of 'e' in word is : 4\n"
     ]
    }
   ],
   "source": [
    "# Python3 code to demonstrate yield keyword \n",
    "  \n",
    "# Use of yield\n",
    "def printresult(String) : \n",
    "    for i in String: \n",
    "        if i == \"e\": \n",
    "            yield i \n",
    "  \n",
    "# initializing string \n",
    "String = \"GeeksforGeeks\" \n",
    "ans = 0\n",
    "print (\"The number of 'e' in word is : \", end = \"\" ) \n",
    "String = String.strip() \n",
    "  \n",
    "for j in printresult(String): \n",
    "    ans = ans + 1\n",
    "  \n",
    "print (ans) "
   ]
  },
  {
   "cell_type": "markdown",
   "id": "ffe6cba9",
   "metadata": {},
   "source": [
    "### Python Return"
   ]
  },
  {
   "cell_type": "markdown",
   "id": "b3e94c5b",
   "metadata": {},
   "source": [
    "It is generally used for the end of the execution and “returns” the result to the caller statement. \n",
    "\n",
    "It can return all type of values and it returns None when there is no expression with the statement “return”."
   ]
  },
  {
   "cell_type": "markdown",
   "id": "8ee51c4e",
   "metadata": {},
   "source": [
    "##### Example"
   ]
  },
  {
   "cell_type": "code",
   "execution_count": 2,
   "id": "31507b38",
   "metadata": {},
   "outputs": [
    {
     "name": "stdout",
     "output_type": "stream",
     "text": [
      "GeeksForGeeks\n",
      "Shubham Singh\n"
     ]
    }
   ],
   "source": [
    "# A Python program to show return statement \n",
    "class Test:  \n",
    "    def __init__(self):  \n",
    "        self.str = \"GeeksForGeeks\"\n",
    "        self.x = \"Shubham Singh\"   \n",
    "      \n",
    "# This function returns an object of Test  \n",
    "def fun():  \n",
    "    return Test()  \n",
    "          \n",
    "# Driver code to test above method  \n",
    "t = fun()   \n",
    "print(t.str)  \n",
    "print(t.x) "
   ]
  },
  {
   "cell_type": "code",
   "execution_count": null,
   "id": "ee1d158a",
   "metadata": {},
   "outputs": [],
   "source": []
  }
 ],
 "metadata": {
  "kernelspec": {
   "display_name": "Python 3 (ipykernel)",
   "language": "python",
   "name": "python3"
  },
  "language_info": {
   "codemirror_mode": {
    "name": "ipython",
    "version": 3
   },
   "file_extension": ".py",
   "mimetype": "text/x-python",
   "name": "python",
   "nbconvert_exporter": "python",
   "pygments_lexer": "ipython3",
   "version": "3.11.1"
  }
 },
 "nbformat": 4,
 "nbformat_minor": 5
}
