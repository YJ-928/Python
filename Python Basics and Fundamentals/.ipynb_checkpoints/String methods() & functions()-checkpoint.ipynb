{
 "cells": [
  {
   "cell_type": "markdown",
   "id": "c6b4adec",
   "metadata": {},
   "source": [
    "# String Methods() & Functions()"
   ]
  },
  {
   "cell_type": "markdown",
   "id": "8f960ea1",
   "metadata": {},
   "source": [
    "## Case Changing of Strings"
   ]
  },
  {
   "cell_type": "markdown",
   "id": "b2a27d6d",
   "metadata": {},
   "source": [
    "### The below functions are used to change the case of the strings.\n",
    "\n",
    "### lower(): Converts all uppercase characters in a string into lowercase\n",
    "### upper(): Converts all lowercase characters in a string into uppercase\n",
    "### title(): Convert string to title case\n",
    "### swapcase(): Swap the cases of all characters in a string"
   ]
  },
  {
   "cell_type": "code",
   "execution_count": 1,
   "id": "4df7215b",
   "metadata": {},
   "outputs": [
    {
     "name": "stdout",
     "output_type": "stream",
     "text": [
      "\n",
      "Converted String:\n",
      "GEEKS FOR GEEKS\n",
      "\n",
      "Converted String:\n",
      "geeks for geeks\n",
      "\n",
      "Converted String:\n",
      "Geeks For Geeks\n",
      "\n",
      "Converted String:\n",
      "GEEkS fOR GEeKs\n",
      "\n",
      "Original String\n",
      "geeKs For geEkS\n"
     ]
    }
   ],
   "source": [
    "# Python3 program to show the\n",
    "# working of upper() function\n",
    "text = 'geeKs For geEkS'\n",
    " \n",
    "# upper() function to convert\n",
    "# string to upper case\n",
    "print(\"\\nConverted String:\")\n",
    "print(text.upper())\n",
    " \n",
    "# lower() function to convert\n",
    "# string to lower case\n",
    "print(\"\\nConverted String:\")\n",
    "print(text.lower())\n",
    " \n",
    "# converts the first character to\n",
    "# upper case and rest to lower case\n",
    "print(\"\\nConverted String:\")\n",
    "print(text.title())\n",
    " \n",
    "# swaps the case of all characters in the string\n",
    "# upper case character to lowercase and viceversa\n",
    "print(\"\\nConverted String:\")\n",
    "print(text.swapcase())\n",
    " \n",
    "# original string never changes\n",
    "print(\"\\nOriginal String\")\n",
    "print(text)"
   ]
  },
  {
   "cell_type": "markdown",
   "id": "b1877ba8",
   "metadata": {},
   "source": [
    "### String Methods()"
   ]
  },
  {
   "cell_type": "code",
   "execution_count": 2,
   "id": "2ec4c5a4",
   "metadata": {},
   "outputs": [
    {
     "name": "stdout",
     "output_type": "stream",
     "text": [
      "capitalize()-->Converts the first character of the string to a capital (uppercase) letter\n"
     ]
    }
   ],
   "source": [
    "# capitalize()\n",
    "print(\"capitalize()-->Converts the first character of the string to a capital (uppercase) letter\")"
   ]
  },
  {
   "cell_type": "code",
   "execution_count": 3,
   "id": "4cbbb572",
   "metadata": {},
   "outputs": [
    {
     "name": "stdout",
     "output_type": "stream",
     "text": [
      "casefold() --> Implements caseless string matching, converts to lower case\n"
     ]
    }
   ],
   "source": [
    "print(\"casefold() --> Implements caseless string matching, converts to lower case\")"
   ]
  },
  {
   "cell_type": "code",
   "execution_count": 4,
   "id": "2aa56d62",
   "metadata": {},
   "outputs": [
    {
     "name": "stdout",
     "output_type": "stream",
     "text": [
      "center() --> Pad the string with the specified character.\n"
     ]
    }
   ],
   "source": [
    "print(\"center() --> Pad the string with the specified character.\")"
   ]
  },
  {
   "cell_type": "code",
   "execution_count": 5,
   "id": "35adc1ff",
   "metadata": {},
   "outputs": [
    {
     "name": "stdout",
     "output_type": "stream",
     "text": [
      "count() --> Returns the number of occurrences of a substring in the string.\n"
     ]
    }
   ],
   "source": [
    "print(\"count() --> Returns the number of occurrences of a substring in the string.\")"
   ]
  },
  {
   "cell_type": "code",
   "execution_count": 6,
   "id": "abe58df5",
   "metadata": {},
   "outputs": [
    {
     "name": "stdout",
     "output_type": "stream",
     "text": [
      "encode() --> Encodes strings with the specified encoded scheme\n"
     ]
    }
   ],
   "source": [
    "print(\"encode() --> Encodes strings with the specified encoded scheme\")"
   ]
  },
  {
   "cell_type": "code",
   "execution_count": null,
   "id": "8210004f",
   "metadata": {},
   "outputs": [],
   "source": []
  }
 ],
 "metadata": {
  "kernelspec": {
   "display_name": "Python 3 (ipykernel)",
   "language": "python",
   "name": "python3"
  },
  "language_info": {
   "codemirror_mode": {
    "name": "ipython",
    "version": 3
   },
   "file_extension": ".py",
   "mimetype": "text/x-python",
   "name": "python",
   "nbconvert_exporter": "python",
   "pygments_lexer": "ipython3",
   "version": "3.11.1"
  }
 },
 "nbformat": 4,
 "nbformat_minor": 5
}
