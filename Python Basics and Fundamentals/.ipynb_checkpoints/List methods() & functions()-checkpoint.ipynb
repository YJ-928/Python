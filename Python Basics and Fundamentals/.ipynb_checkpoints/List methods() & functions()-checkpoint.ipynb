{
 "cells": [
  {
   "cell_type": "markdown",
   "id": "f4d697c9",
   "metadata": {},
   "source": [
    "# List Methods & Function Syntax's:"
   ]
  },
  {
   "cell_type": "markdown",
   "id": "23a957f9",
   "metadata": {},
   "source": [
    "### clear(): list.clear()\n",
    "### count(): list_name.count(object)\n",
    "### extend(): list.extend(iterable)\n",
    "### index(): list_name.index(element, start, end)\n",
    "### insert(): list_name.insert(index, element)\n",
    "### pop(): list_name.pop(index)\n",
    "### remove(): list_name.remove(obj) \n",
    "### reverse(): list_name.reverse()\n",
    "### sort(): List_name.sort(reverse=True/False, key=myFunc)\n",
    "### max() & min(): list.max() & list.min()\n",
    "### type(): type(list_name)\n",
    "### len(): len(list_name)\n",
    "### seq(): list_name(seq) \n",
    "#### Converts Tuple to List\n",
    "### cmp(): cmp(list1_name,list2_name)\n",
    "#### Compares Elements of Both Lists"
   ]
  },
  {
   "cell_type": "markdown",
   "id": "0f056d0e",
   "metadata": {},
   "source": [
    "### Sample program to demonstarte"
   ]
  },
  {
   "cell_type": "code",
   "execution_count": 3,
   "id": "b44aecfd",
   "metadata": {},
   "outputs": [
    {
     "name": "stdout",
     "output_type": "stream",
     "text": [
      "Orginal list:\t [1, 'yash', 10, 3.03, 'joshi', 10, 10] \n",
      "\n",
      "\n",
      "Count Method:\t Given inputs count('yash') & count(10)\n",
      " 1 3 \t count(object) gives the total number of specified object in that list\n",
      "\n",
      "\n",
      "Copied list using copy() method:\t [1, 'yash', 10, 3.03, 'joshi', 10, 10] \n",
      "\n",
      "\n",
      "Copied list cleared and made into empty list using clear():\t [] \n",
      "\n",
      "\n",
      "extend(Itterable_Obj) method: added My_Tuple()\n",
      " [1, 'yash', 10, 3.03, 'joshi', 10, 10, 1, 2, 3] \n",
      "\n",
      "extend(Itterable_Obj) method: added My_Set \n",
      " [1, 'yash', 10, 3.03, 'joshi', 10, 10, 1, 2, 3, 'Joshi', 'Yash'] \n",
      "\n",
      "\n",
      "index(object):\tReturns the lowest index of specified object.\n",
      " 2 \n",
      "\n",
      "\n",
      "List insert():--> Syntax: list_name.insert(index, element)\n",
      "[1, 'King', 'yash', 10, 3.03, 'joshi', 10, 10, 1, 2, 3, 'Joshi', 'Yash'] \n",
      "\n",
      "\n",
      "remove(object):--> Syntax: list_name.remove(obj) \n",
      "[1, 'yash', 10, 3.03, 'joshi', 10, 10, 1, 2, 3, 'Joshi', 'Yash'] \n",
      "\n",
      "\n"
     ]
    }
   ],
   "source": [
    "MyList = [1,'yash',10,3.03,'joshi',10,10]\n",
    "print(\"Orginal list:\\t\",MyList,\"\\n\\n\")\n",
    "\n",
    "print(\"Count Method:\\t Given inputs count('yash') & count(10)\\n\",\n",
    "      MyList.count('yash'),MyList.count(10), \n",
    "      \"\\t count(object) gives the total number of specified object in that list\\n\\n\")\n",
    "\n",
    "CopiedList = MyList.copy()\n",
    "print(\"Copied list using copy() method:\\t\",CopiedList,\"\\n\\n\")\n",
    "\n",
    "CopiedList.clear()\n",
    "print(\"Copied list cleared and made into empty list using clear():\\t\",CopiedList,\"\\n\\n\")\n",
    "\n",
    "My_Tuple = (1,2,3)\n",
    "My_Set = {'Yash','Joshi'}\n",
    "MyList.extend(My_Tuple)\n",
    "print(\"extend(Itterable_Obj) method: added My_Tuple()\\n\",MyList,\"\\n\")\n",
    "MyList.extend(My_Set)\n",
    "print(\"extend(Itterable_Obj) method: added My_Set \\n\",MyList,\"\\n\\n\")\n",
    "\n",
    "print(\"index(object):\tReturns the lowest index of specified object.\\n\",MyList.index(10),\"\\n\\n\")\n",
    "\n",
    "print(\"List insert():--> Syntax: list_name.insert(index, element)\")\n",
    "MyList.insert(1,'King')\n",
    "print(MyList,\"\\n\\n\")\n",
    "\n",
    "print(\"remove(object):--> Syntax: list_name.remove(obj) \")\n",
    "MyList.remove('King')\n",
    "print(MyList,\"\\n\\n\")"
   ]
  },
  {
   "cell_type": "code",
   "execution_count": null,
   "id": "b36aaaa9",
   "metadata": {},
   "outputs": [],
   "source": []
  }
 ],
 "metadata": {
  "kernelspec": {
   "display_name": "Python 3 (ipykernel)",
   "language": "python",
   "name": "python3"
  },
  "language_info": {
   "codemirror_mode": {
    "name": "ipython",
    "version": 3
   },
   "file_extension": ".py",
   "mimetype": "text/x-python",
   "name": "python",
   "nbconvert_exporter": "python",
   "pygments_lexer": "ipython3",
   "version": "3.11.1"
  }
 },
 "nbformat": 4,
 "nbformat_minor": 5
}
