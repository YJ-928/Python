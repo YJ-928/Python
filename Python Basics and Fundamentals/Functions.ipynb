{
 "cells": [
  {
   "cell_type": "markdown",
   "id": "96fa425b",
   "metadata": {},
   "source": [
    "# Functions"
   ]
  },
  {
   "cell_type": "markdown",
   "id": "328d629e",
   "metadata": {},
   "source": [
    "### Two types of functions:\n",
    "User Defined & \n",
    "Built-in library functions"
   ]
  },
  {
   "cell_type": "markdown",
   "id": "d33b66e1",
   "metadata": {},
   "source": [
    "### Creating and calling a function in python:"
   ]
  },
  {
   "cell_type": "code",
   "execution_count": 1,
   "id": "da21bcbe",
   "metadata": {},
   "outputs": [
    {
     "name": "stdout",
     "output_type": "stream",
     "text": [
      "Welcome, Hello!!\n"
     ]
    }
   ],
   "source": [
    "# Creating\n",
    "def MyFunc():\n",
    "    print(\"Welcome, Hello!!\")\n",
    "    \n",
    "# calling\n",
    "MyFunc()"
   ]
  },
  {
   "cell_type": "markdown",
   "id": "29d417c1",
   "metadata": {},
   "source": [
    "### Function with Arguments or Parameters"
   ]
  },
  {
   "cell_type": "markdown",
   "id": "1d570139",
   "metadata": {},
   "source": [
    "#### Syntax:\n",
    "        def function_name(parameters):\n",
    "            \"\"\"Docstring\"\"\"\n",
    "            # body of the function\n",
    "            return expression"
   ]
  },
  {
   "cell_type": "markdown",
   "id": "f0d931bb",
   "metadata": {},
   "source": [
    "### Types of function Arguments"
   ]
  },
  {
   "cell_type": "markdown",
   "id": "80cd0e85",
   "metadata": {},
   "source": [
    "#### Default argument\n",
    "#### Keyword arguments (named arguments)\n",
    "#### Positional arguments\n",
    "#### Arbitrary arguments (variable-length arguments *args and **kwargs)"
   ]
  },
  {
   "cell_type": "markdown",
   "id": "cf007515",
   "metadata": {},
   "source": [
    "### Default Arguments:\n",
    "A default argument is a parameter that assumes a default value if a value is not provided in the function call for that argument."
   ]
  },
  {
   "cell_type": "code",
   "execution_count": 10,
   "id": "b6938fd2",
   "metadata": {},
   "outputs": [
    {
     "name": "stdout",
     "output_type": "stream",
     "text": [
      "x:  10\n",
      "y:  50\n"
     ]
    }
   ],
   "source": [
    "# Python program to demonstrate\n",
    "# default arguments\n",
    "\n",
    "def myFun(x, y=50):\n",
    "    print(\"x: \", x)\n",
    "    print(\"y: \", y)\n",
    " \n",
    " \n",
    "# Driver code (We call myFun() with only\n",
    "# argument)\n",
    "myFun(10)"
   ]
  },
  {
   "cell_type": "markdown",
   "id": "bb8782f4",
   "metadata": {},
   "source": [
    "### Keyword Arguments:\n",
    "The idea is to allow the caller to specify the argument name with values so that the caller does not need to remember the order of parameters."
   ]
  },
  {
   "cell_type": "code",
   "execution_count": 11,
   "id": "97c1c481",
   "metadata": {},
   "outputs": [
    {
     "name": "stdout",
     "output_type": "stream",
     "text": [
      "Geeks Practice\n",
      "Geeks Practice\n"
     ]
    }
   ],
   "source": [
    "# Python program to demonstrate Keyword Arguments\n",
    "def student(firstname, lastname):\n",
    "    print(firstname, lastname)\n",
    " \n",
    " \n",
    "# Keyword arguments\n",
    "student(firstname='Geeks', lastname='Practice')\n",
    "student(lastname='Practice', firstname='Geeks')"
   ]
  },
  {
   "cell_type": "markdown",
   "id": "13c2239b",
   "metadata": {},
   "source": [
    "### Positional Arguments:\n",
    "We used the Position argument during the function call so that the first argument (or value) is assigned to name and the second argument (or value) is assigned to age."
   ]
  },
  {
   "cell_type": "code",
   "execution_count": 12,
   "id": "5b94a1b5",
   "metadata": {},
   "outputs": [
    {
     "name": "stdout",
     "output_type": "stream",
     "text": [
      "Case-1:\n",
      "Hi, I am Suraj\n",
      "My age is  27\n",
      "\n",
      "Case-2:\n",
      "Hi, I am 27\n",
      "My age is  Suraj\n"
     ]
    }
   ],
   "source": [
    "def nameAge(name, age):\n",
    "    print(\"Hi, I am\", name)\n",
    "    print(\"My age is \", age)\n",
    " \n",
    " \n",
    "# You will get correct output because\n",
    "# argument is given in order\n",
    "print(\"Case-1:\")\n",
    "nameAge(\"Suraj\", 27)\n",
    "# You will get incorrect output because\n",
    "# argument is not in order\n",
    "print(\"\\nCase-2:\")\n",
    "nameAge(27, \"Suraj\")"
   ]
  },
  {
   "cell_type": "markdown",
   "id": "55c02147",
   "metadata": {},
   "source": [
    "### Arbitrary Keyword  Arguments:\n",
    "In Python Arbitrary Keyword Arguments, *args, and **kwargs can pass a variable number of arguments to a function using special symbols. There are two special symbols:\n",
    "\n",
    "#### *args in Python (Non-Keyword Arguments)\n",
    "#### **kwargs in Python (Keyword Arguments)"
   ]
  },
  {
   "cell_type": "markdown",
   "id": "151155eb",
   "metadata": {},
   "source": [
    "##### Example 1: Variable length non-keywords argument"
   ]
  },
  {
   "cell_type": "code",
   "execution_count": 15,
   "id": "f8dbbde4",
   "metadata": {},
   "outputs": [
    {
     "name": "stdout",
     "output_type": "stream",
     "text": [
      "Hello\n",
      "Welcome\n",
      "to\n",
      "GeeksforGeeks\n"
     ]
    }
   ],
   "source": [
    "# Python program to illustrate\n",
    "# *args for variable number of arguments\n",
    "def myFun(*args):\n",
    "    for arg in args:\n",
    "        print(arg)\n",
    " \n",
    " \n",
    "myFun('Hello', 'Welcome', 'to', 'GeeksforGeeks')"
   ]
  },
  {
   "cell_type": "markdown",
   "id": "2e5d987c",
   "metadata": {},
   "source": [
    "##### Example 2: Variable length keyword arguments"
   ]
  },
  {
   "cell_type": "code",
   "execution_count": 14,
   "id": "1182bdc7",
   "metadata": {},
   "outputs": [
    {
     "name": "stdout",
     "output_type": "stream",
     "text": [
      "first == Geeks\n",
      "mid == for\n",
      "last == Geeks\n"
     ]
    }
   ],
   "source": [
    "# Python program to illustrate\n",
    "# *kwargs for variable number of keyword arguments\n",
    " \n",
    " \n",
    "def myFun(**kwargs):\n",
    "    for key, value in kwargs.items():\n",
    "        print(\"%s == %s\" % (key, value))\n",
    " \n",
    " \n",
    "# Driver code\n",
    "myFun(first='Geeks', mid='for', last='Geeks')"
   ]
  },
  {
   "cell_type": "markdown",
   "id": "b075cade",
   "metadata": {},
   "source": [
    "### Docstring:\n",
    "The first string after the function is called the Document string or Docstring in short. This is used to describe the functionality of the function."
   ]
  },
  {
   "cell_type": "markdown",
   "id": "79000c89",
   "metadata": {},
   "source": [
    "##### The below syntax can be used to print out the docstring of a function:\n",
    "    Syntax: print(function_name.__doc__)"
   ]
  },
  {
   "cell_type": "code",
   "execution_count": 16,
   "id": "f6bb8b0c",
   "metadata": {},
   "outputs": [
    {
     "name": "stdout",
     "output_type": "stream",
     "text": [
      "Function to check if the number is even or odd\n"
     ]
    }
   ],
   "source": [
    "# A simple Python function to check\n",
    "# whether x is even or odd\n",
    " \n",
    " \n",
    "def evenOdd(x):\n",
    "    \"\"\"Function to check if the number is even or odd\"\"\"\n",
    "     \n",
    "    if (x % 2 == 0):\n",
    "        print(\"even\")\n",
    "    else:\n",
    "        print(\"odd\")\n",
    " \n",
    " \n",
    "# Driver code to call the function\n",
    "print(evenOdd.__doc__)"
   ]
  },
  {
   "cell_type": "markdown",
   "id": "24f7b5ad",
   "metadata": {},
   "source": [
    "### Nested Functions"
   ]
  },
  {
   "cell_type": "markdown",
   "id": "b459c2aa",
   "metadata": {},
   "source": [
    "##### Example of a nested function"
   ]
  },
  {
   "cell_type": "code",
   "execution_count": 17,
   "id": "5614385f",
   "metadata": {},
   "outputs": [
    {
     "name": "stdout",
     "output_type": "stream",
     "text": [
      "I love GeeksforGeeks\n"
     ]
    }
   ],
   "source": [
    "# Python program to\n",
    "# demonstrate accessing of\n",
    "# variables of nested functions\n",
    " \n",
    "def f1():\n",
    "    s = 'I love GeeksforGeeks'\n",
    "     \n",
    "    def f2():\n",
    "        print(s)\n",
    "         \n",
    "    f2()\n",
    " \n",
    "# Driver's code\n",
    "f1()"
   ]
  },
  {
   "cell_type": "markdown",
   "id": "ddef8944",
   "metadata": {},
   "source": [
    "### Anonymous functions in Python Function:\n",
    "In Python, an anonymous function means that a function is without a name. As we already know the def keyword is used to define the normal functions and the lambda keyword is used to create anonymous functions"
   ]
  },
  {
   "cell_type": "markdown",
   "id": "7a4f871c",
   "metadata": {},
   "source": [
    "##### Example"
   ]
  },
  {
   "cell_type": "code",
   "execution_count": 18,
   "id": "257c1804",
   "metadata": {},
   "outputs": [
    {
     "name": "stdout",
     "output_type": "stream",
     "text": [
      "343\n",
      "343\n"
     ]
    }
   ],
   "source": [
    "# Python code to illustrate the cube of a number\n",
    "# using lambda function\n",
    "def cube(x): return x*x*x\n",
    " \n",
    "cube_v2 = lambda x : x*x*x\n",
    " \n",
    "print(cube(7))\n",
    "print(cube_v2(7))"
   ]
  },
  {
   "cell_type": "markdown",
   "id": "42204d64",
   "metadata": {},
   "source": [
    "### Return statement in Python function:\n",
    "The function return statement is used to exit from a function and go back to the function caller and return the specified value or data item to the caller."
   ]
  },
  {
   "cell_type": "markdown",
   "id": "7ee21036",
   "metadata": {},
   "source": [
    "#### The syntax for the return statement is:\n",
    "    return [expression_list]"
   ]
  },
  {
   "cell_type": "markdown",
   "id": "316e41c3",
   "metadata": {},
   "source": [
    "##### Example:"
   ]
  },
  {
   "cell_type": "code",
   "execution_count": 19,
   "id": "fff3356e",
   "metadata": {},
   "outputs": [
    {
     "name": "stdout",
     "output_type": "stream",
     "text": [
      "4\n",
      "16\n"
     ]
    }
   ],
   "source": [
    "def square_value(num):\n",
    "    \"\"\"This function returns the square\n",
    "    value of the entered number\"\"\"\n",
    "    return num**2\n",
    " \n",
    " \n",
    "print(square_value(2))\n",
    "print(square_value(-4))"
   ]
  },
  {
   "cell_type": "code",
   "execution_count": null,
   "id": "dbf5d672",
   "metadata": {},
   "outputs": [],
   "source": []
  }
 ],
 "metadata": {
  "kernelspec": {
   "display_name": "Python 3 (ipykernel)",
   "language": "python",
   "name": "python3"
  },
  "language_info": {
   "codemirror_mode": {
    "name": "ipython",
    "version": 3
   },
   "file_extension": ".py",
   "mimetype": "text/x-python",
   "name": "python",
   "nbconvert_exporter": "python",
   "pygments_lexer": "ipython3",
   "version": "3.11.1"
  }
 },
 "nbformat": 4,
 "nbformat_minor": 5
}
