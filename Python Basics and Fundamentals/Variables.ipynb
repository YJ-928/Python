{
 "cells": [
  {
   "cell_type": "markdown",
   "id": "c79a51ea",
   "metadata": {},
   "source": [
    "# Variables "
   ]
  },
  {
   "cell_type": "markdown",
   "id": "5646361b",
   "metadata": {},
   "source": [
    "## Local and Global Variables"
   ]
  },
  {
   "cell_type": "code",
   "execution_count": 3,
   "id": "9f545b7a",
   "metadata": {},
   "outputs": [],
   "source": [
    "# Local\n",
    "def function():\n",
    "    var = 5\n",
    "    return (var**2)\n",
    "\n",
    "# Global\n",
    "var = 9"
   ]
  },
  {
   "cell_type": "markdown",
   "id": "9a91a728",
   "metadata": {},
   "source": [
    "### Various Types of Variables"
   ]
  },
  {
   "cell_type": "code",
   "execution_count": 4,
   "id": "e94686e4",
   "metadata": {},
   "outputs": [
    {
     "name": "stdout",
     "output_type": "stream",
     "text": [
      "928 <class 'int'>\n",
      "9.28 <class 'float'>\n",
      "YJ <class 'str'>\n",
      "<class 'bool'>\n",
      "<class 'bool'>\n",
      "{'a', 'B', 'J', 's', 'o', 'h', 'Y', 'i'}\n",
      "{1: 'Yash', 2: 'Joshi'}\n"
     ]
    }
   ],
   "source": [
    "Var_int = 928\n",
    "Var_float = 9.28\n",
    "Var_string = \"YJ\"\n",
    "Var_set = set(\"YashBJoshi\")\n",
    "Var_Dict = {1: 'Yash', 2: 'Joshi', }\n",
    "print(Var_int, type(Var_int))\n",
    "print(Var_float, type(Var_float))\n",
    "print(Var_string, type(Var_string))\n",
    "print(type(True))\n",
    "print(type(False))\n",
    "print(Var_set)\n",
    "print(Var_Dict)"
   ]
  },
  {
   "cell_type": "markdown",
   "id": "0cd782c4",
   "metadata": {},
   "source": [
    "### Different variable declarations "
   ]
  },
  {
   "cell_type": "code",
   "execution_count": 5,
   "id": "239f78fe",
   "metadata": {},
   "outputs": [
    {
     "name": "stdout",
     "output_type": "stream",
     "text": [
      "928 928 928\n",
      "928 9.28 YJ\n",
      "30.8\n",
      "YJ-928\n"
     ]
    }
   ],
   "source": [
    "a = b = c = 928\n",
    "print(a, b, c)\n",
    "\n",
    "a, b, c = 928, 9.28, \"YJ\"\n",
    "print(a, b, c)\n",
    "\n",
    "x, y = 10, 20.8\n",
    "print(x+y)\n",
    "x, y = \"YJ\", \"-928\"\n",
    "print(x+y)\n",
    "\n",
    "x = 28"
   ]
  },
  {
   "cell_type": "markdown",
   "id": "2deec88f",
   "metadata": {},
   "source": [
    "### Converting Local Variable To Global"
   ]
  },
  {
   "cell_type": "code",
   "execution_count": 6,
   "id": "858bd130",
   "metadata": {},
   "outputs": [
    {
     "name": "stdout",
     "output_type": "stream",
     "text": [
      "33\n"
     ]
    }
   ],
   "source": [
    "def checking():\n",
    "    global x\n",
    "    x += 5\n",
    "    print(x)\n",
    "\n",
    "\n",
    "checking()"
   ]
  },
  {
   "cell_type": "markdown",
   "id": "4b31ae9b",
   "metadata": {},
   "source": [
    "### Variables in Classes & Objects"
   ]
  },
  {
   "cell_type": "code",
   "execution_count": 7,
   "id": "ac77cb6e",
   "metadata": {},
   "outputs": [
    {
     "name": "stdout",
     "output_type": "stream",
     "text": [
      "ECE\n",
      "1\n"
     ]
    }
   ],
   "source": [
    "class ECStudent():\n",
    "    # Class Variable\n",
    "    stream = 'ECE'\n",
    "\n",
    "    def __init__(self, roll):\n",
    "        # Instance Variable\n",
    "        self.roll = roll\n",
    "\n",
    "\n",
    "Stu1 = ECStudent(1)\n",
    "Stu2 = ECStudent(2)\n",
    "\n",
    "print(Stu1.stream)\n",
    "print(Stu1.roll)"
   ]
  },
  {
   "cell_type": "code",
   "execution_count": null,
   "id": "0b57e46c",
   "metadata": {},
   "outputs": [],
   "source": []
  }
 ],
 "metadata": {
  "kernelspec": {
   "display_name": "Python 3 (ipykernel)",
   "language": "python",
   "name": "python3"
  },
  "language_info": {
   "codemirror_mode": {
    "name": "ipython",
    "version": 3
   },
   "file_extension": ".py",
   "mimetype": "text/x-python",
   "name": "python",
   "nbconvert_exporter": "python",
   "pygments_lexer": "ipython3",
   "version": "3.11.1"
  }
 },
 "nbformat": 4,
 "nbformat_minor": 5
}
