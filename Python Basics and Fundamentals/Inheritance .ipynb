{
 "cells": [
  {
   "cell_type": "markdown",
   "id": "d5469ccb",
   "metadata": {},
   "source": [
    "# Inheritance in Python"
   ]
  },
  {
   "cell_type": "markdown",
   "id": "72b5fbf3",
   "metadata": {},
   "source": [
    "One of the core concepts in object-oriented programming (OOP) languages is inheritance"
   ]
  },
  {
   "cell_type": "markdown",
   "id": "7c9ff82d",
   "metadata": {},
   "source": [
    "It allows you to create a hierarchy of classes that share a set of properties and methods by deriving a class from another class. \n",
    "\n",
    "Inheritance is the capability of one class to derive or inherit the properties from another class. "
   ]
  },
  {
   "cell_type": "markdown",
   "id": "3014a12b",
   "metadata": {},
   "source": [
    "## Python Inheritance Syntax"
   ]
  },
  {
   "cell_type": "markdown",
   "id": "79097c62",
   "metadata": {},
   "source": [
    "### Class BaseClass:\n",
    "    {Body of BaseClass}\n",
    "### Class DerivedClass(BaseClass):\n",
    "    {Body of DerivedClass}"
   ]
  },
  {
   "cell_type": "markdown",
   "id": "92214ae8",
   "metadata": {},
   "source": [
    "### Creating a Parent Class"
   ]
  },
  {
   "cell_type": "markdown",
   "id": "01479baa",
   "metadata": {},
   "source": [
    "##### Creating a Person class with Display methods."
   ]
  },
  {
   "cell_type": "code",
   "execution_count": 2,
   "id": "bb592787",
   "metadata": {},
   "outputs": [
    {
     "name": "stdout",
     "output_type": "stream",
     "text": [
      "Yash 99\n"
     ]
    }
   ],
   "source": [
    "# A Python program to demonstrate inheritance\n",
    " \n",
    "class Person(object):\n",
    "   \n",
    "  # Constructor\n",
    "  def __init__(self, name, id):\n",
    "    self.name = name\n",
    "    self.id = id\n",
    " \n",
    "  # To check if this person is an employee\n",
    "  def Display(self):\n",
    "    print(self.name, self.id)\n",
    " \n",
    " \n",
    "# Driver code\n",
    "emp = Person(\"Yash\", 99) # An Object of Person\n",
    "emp.Display()"
   ]
  },
  {
   "cell_type": "markdown",
   "id": "6de030af",
   "metadata": {},
   "source": [
    "### Creating a Child Class\n",
    "##### Here Emp is another class which is going to inherit the properties of the Person class(base class)."
   ]
  },
  {
   "cell_type": "code",
   "execution_count": 3,
   "id": "eccf832c",
   "metadata": {},
   "outputs": [
    {
     "name": "stdout",
     "output_type": "stream",
     "text": [
      "Joshi 928\n",
      "Emp class called\n"
     ]
    }
   ],
   "source": [
    "class Emp(Person):\n",
    "   \n",
    "  def Print(self):\n",
    "    print(\"Emp class called\")\n",
    "     \n",
    "Emp_details = Emp(\"Joshi\", 928)\n",
    " \n",
    "# calling parent class function\n",
    "Emp_details.Display()\n",
    " \n",
    "# Calling child class function\n",
    "Emp_details.Print()"
   ]
  },
  {
   "cell_type": "markdown",
   "id": "13e8c596",
   "metadata": {},
   "source": [
    "## Example of Inheritance in Python "
   ]
  },
  {
   "cell_type": "code",
   "execution_count": 4,
   "id": "a4891dfb",
   "metadata": {},
   "outputs": [
    {
     "name": "stdout",
     "output_type": "stream",
     "text": [
      "Geek1 False\n",
      "Geek2 True\n"
     ]
    }
   ],
   "source": [
    "# A Python program to demonstrate inheritance\n",
    " \n",
    "# Base or Super class. Note object in bracket.\n",
    "# (Generally, object is made ancestor of all classes)\n",
    "# In Python 3.x \"class Person\" is equivalent to \"class Person(object)\"\n",
    " \n",
    " \n",
    "class Person(object):\n",
    " \n",
    "    # Constructor\n",
    "    def __init__(self, name):\n",
    "        self.name = name\n",
    " \n",
    "    # To get name\n",
    "    def getName(self):\n",
    "        return self.name\n",
    " \n",
    "    # To check if this person is an employee\n",
    "    def isEmployee(self):\n",
    "        return False\n",
    " \n",
    " \n",
    "# Inherited or Subclass (Note Person in bracket)\n",
    "class Employee(Person):\n",
    " \n",
    "    # Here we return true\n",
    "    def isEmployee(self):\n",
    "        return True\n",
    " \n",
    " \n",
    "# Driver code\n",
    "emp = Person(\"Geek1\")  # An Object of Person\n",
    "print(emp.getName(), emp.isEmployee())\n",
    " \n",
    "emp = Employee(\"Geek2\")  # An Object of Employee\n",
    "print(emp.getName(), emp.isEmployee())"
   ]
  },
  {
   "cell_type": "markdown",
   "id": "a0506c2a",
   "metadata": {},
   "source": [
    "### Object class"
   ]
  },
  {
   "cell_type": "markdown",
   "id": "3353acbb",
   "metadata": {},
   "source": [
    "object is the root of all classes. "
   ]
  },
  {
   "cell_type": "markdown",
   "id": "37c45625",
   "metadata": {},
   "source": [
    "### Subclassing (Calling constructor of parent class)"
   ]
  },
  {
   "cell_type": "markdown",
   "id": "d78a48c7",
   "metadata": {},
   "source": [
    "A child class needs to identify which class is its parent class. This can be done by mentioning the parent class name in the definition of the child class. "
   ]
  },
  {
   "cell_type": "markdown",
   "id": "b81283f2",
   "metadata": {},
   "source": [
    "Eg: class subclass_name (superclass_name): "
   ]
  },
  {
   "cell_type": "code",
   "execution_count": 1,
   "id": "218a7c53",
   "metadata": {},
   "outputs": [
    {
     "name": "stdout",
     "output_type": "stream",
     "text": [
      "Rahul\n",
      "886012\n"
     ]
    }
   ],
   "source": [
    "# Python code to demonstrate how parent constructors are called.\n",
    " \n",
    "# parent class\n",
    "class Person(object):\n",
    " \n",
    "    # __init__ is known as the constructor\n",
    "    def __init__(self, name, idnumber):\n",
    "        self.name = name\n",
    "        self.idnumber = idnumber\n",
    " \n",
    "    def display(self):\n",
    "        print(self.name)\n",
    "        print(self.idnumber)\n",
    "\n",
    "\n",
    "# child class\n",
    "class Employee(Person):\n",
    "    def __init__(self, name, idnumber, salary, post):\n",
    "        self.salary = salary\n",
    "        self.post = post\n",
    " \n",
    "        # invoking the __init__ of the parent class\n",
    "        Person.__init__(self, name, idnumber)\n",
    "\n",
    "        \n",
    "# creation of an object variable or an instance\n",
    "a = Employee('Rahul', 886012, 200000, \"Intern\")\n",
    " \n",
    "# calling a function of the class Person using its instance\n",
    "a.display()"
   ]
  },
  {
   "cell_type": "markdown",
   "id": "aa2dc295",
   "metadata": {},
   "source": [
    "### error if we forget to invoke __init__() of the parent"
   ]
  },
  {
   "cell_type": "markdown",
   "id": "8ecbda24",
   "metadata": {},
   "source": [
    "If wee forget to invoke the __init__() of the parent class then its instance variables would not be available to the child class. "
   ]
  },
  {
   "cell_type": "markdown",
   "id": "31fac60f",
   "metadata": {},
   "source": [
    "##### Example:"
   ]
  },
  {
   "cell_type": "code",
   "execution_count": 2,
   "id": "0dafc890",
   "metadata": {},
   "outputs": [
    {
     "ename": "AttributeError",
     "evalue": "'B' object has no attribute 'name'",
     "output_type": "error",
     "traceback": [
      "\u001b[1;31m---------------------------------------------------------------------------\u001b[0m",
      "\u001b[1;31mAttributeError\u001b[0m                            Traceback (most recent call last)",
      "Cell \u001b[1;32mIn[2], line 12\u001b[0m\n\u001b[0;32m      8\u001b[0m         \u001b[38;5;28mself\u001b[39m\u001b[38;5;241m.\u001b[39mroll \u001b[38;5;241m=\u001b[39m roll\n\u001b[0;32m     11\u001b[0m \u001b[38;5;28mobject\u001b[39m \u001b[38;5;241m=\u001b[39m B(\u001b[38;5;241m23\u001b[39m)\n\u001b[1;32m---> 12\u001b[0m \u001b[38;5;28mprint\u001b[39m(\u001b[38;5;28;43mobject\u001b[39;49m\u001b[38;5;241;43m.\u001b[39;49m\u001b[43mname\u001b[49m)\n",
      "\u001b[1;31mAttributeError\u001b[0m: 'B' object has no attribute 'name'"
     ]
    }
   ],
   "source": [
    "class A:\n",
    "    def __init__(self, n='Rahul'):\n",
    "        self.name = n\n",
    " \n",
    " \n",
    "class B(A):\n",
    "    def __init__(self, roll):\n",
    "        self.roll = roll\n",
    " \n",
    " \n",
    "object = B(23)\n",
    "print(object.name)"
   ]
  },
  {
   "cell_type": "markdown",
   "id": "22f51fd7",
   "metadata": {},
   "source": [
    "As mentioned above we get an AttributeError"
   ]
  },
  {
   "cell_type": "markdown",
   "id": "3a469566",
   "metadata": {},
   "source": [
    "## Different types of Inheritance:"
   ]
  },
  {
   "cell_type": "markdown",
   "id": "fb78a98d",
   "metadata": {},
   "source": [
    "### Single inheritance: \n",
    "When a child class inherits from only one parent class, it is called single inheritance. We saw an example above."
   ]
  },
  {
   "cell_type": "markdown",
   "id": "f05e5f5c",
   "metadata": {},
   "source": [
    "### Multiple inheritances: \n",
    "When a child class inherits from multiple parent classes, it is called multiple inheritances. "
   ]
  },
  {
   "cell_type": "markdown",
   "id": "55ec643b",
   "metadata": {},
   "source": [
    "### Private members of the parent class"
   ]
  },
  {
   "cell_type": "markdown",
   "id": "1f98dfbe",
   "metadata": {},
   "source": [
    "We don’t always want the instance variables of the parent class to be inherited by the child class i.e. we can make some of the instance variables of the parent class private, which won’t be available to the child class.\n",
    "\n",
    "We can make an instance variable private by adding double underscores before its name"
   ]
  },
  {
   "cell_type": "code",
   "execution_count": 15,
   "id": "a67e7853",
   "metadata": {},
   "outputs": [
    {
     "ename": "AttributeError",
     "evalue": "'D' object has no attribute 'd'",
     "output_type": "error",
     "traceback": [
      "\u001b[1;31m---------------------------------------------------------------------------\u001b[0m",
      "\u001b[1;31mAttributeError\u001b[0m                            Traceback (most recent call last)",
      "Cell \u001b[1;32mIn[15], line 21\u001b[0m\n\u001b[0;32m     18\u001b[0m object1 \u001b[38;5;241m=\u001b[39m D()\n\u001b[0;32m     20\u001b[0m \u001b[38;5;66;03m# produces an error as d is private instance variable\u001b[39;00m\n\u001b[1;32m---> 21\u001b[0m \u001b[38;5;28mprint\u001b[39m(\u001b[43mobject1\u001b[49m\u001b[38;5;241;43m.\u001b[39;49m\u001b[43md\u001b[49m)\n",
      "\u001b[1;31mAttributeError\u001b[0m: 'D' object has no attribute 'd'"
     ]
    }
   ],
   "source": [
    "# Python program to demonstrate private members of the parent class\n",
    " \n",
    " \n",
    "class C():\n",
    "    def __init__(self):\n",
    "        self.c = 21\n",
    " \n",
    "        # d is private instance variable\n",
    "        self.__d = 42\n",
    " \n",
    " \n",
    "class D(C):\n",
    "    def __init__(self):\n",
    "        self.e = 84\n",
    "        C.__init__(self)\n",
    " \n",
    " \n",
    "object1 = D()\n",
    " \n",
    "# produces an error as d is private instance variable\n",
    "print(object1.d)"
   ]
  },
  {
   "cell_type": "code",
   "execution_count": null,
   "id": "6f3555a4",
   "metadata": {},
   "outputs": [],
   "source": []
  }
 ],
 "metadata": {
  "kernelspec": {
   "display_name": "Python 3 (ipykernel)",
   "language": "python",
   "name": "python3"
  },
  "language_info": {
   "codemirror_mode": {
    "name": "ipython",
    "version": 3
   },
   "file_extension": ".py",
   "mimetype": "text/x-python",
   "name": "python",
   "nbconvert_exporter": "python",
   "pygments_lexer": "ipython3",
   "version": "3.11.1"
  }
 },
 "nbformat": 4,
 "nbformat_minor": 5
}
