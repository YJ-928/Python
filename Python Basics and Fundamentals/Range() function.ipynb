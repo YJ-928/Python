{
 "cells": [
  {
   "cell_type": "markdown",
   "id": "5d9948ec",
   "metadata": {},
   "source": [
    "# range() Function"
   ]
  },
  {
   "cell_type": "markdown",
   "id": "495e645f",
   "metadata": {},
   "source": [
    "The Python range() function returns a sequence of numbers, in a given range. The most common use of it is to iterate sequence on a sequence of numbers using Python loops.\n",
    "\n",
    "Python range() function doesn’t support the float numbers"
   ]
  },
  {
   "cell_type": "markdown",
   "id": "8cd31401",
   "metadata": {},
   "source": [
    "#### Syntax of Python range() function"
   ]
  },
  {
   "cell_type": "markdown",
   "id": "654114b5",
   "metadata": {},
   "source": [
    "#### Syntax: \n",
    "range(start, stop, step)"
   ]
  },
  {
   "cell_type": "markdown",
   "id": "569f984f",
   "metadata": {},
   "source": [
    "#### Parameter:\n",
    "\n",
    "start: [ optional ] start value of the sequence\n",
    "\n",
    "stop: next value after the end value of the sequence\n",
    "\n",
    "step: [ optional ] integer value, denoting the difference between any two numbers in "
   ]
  },
  {
   "cell_type": "markdown",
   "id": "661a6c4c",
   "metadata": {},
   "source": [
    "##### Example"
   ]
  },
  {
   "cell_type": "code",
   "execution_count": 2,
   "id": "c42a895c",
   "metadata": {},
   "outputs": [
    {
     "name": "stdout",
     "output_type": "stream",
     "text": [
      "0 1 2 3 4 \n"
     ]
    }
   ],
   "source": [
    "# print first 5 integers\n",
    "# using python range() function\n",
    "for i in range(5):\n",
    "    print(i, end=\" \")\n",
    "print()"
   ]
  },
  {
   "cell_type": "markdown",
   "id": "2dfaa445",
   "metadata": {},
   "source": [
    "## Python range (stop)"
   ]
  },
  {
   "cell_type": "markdown",
   "id": "3956a3e8",
   "metadata": {},
   "source": [
    "#### Example: Demonstration of Python range (stop)"
   ]
  },
  {
   "cell_type": "code",
   "execution_count": 3,
   "id": "93dc61cb",
   "metadata": {},
   "outputs": [
    {
     "name": "stdout",
     "output_type": "stream",
     "text": [
      "0 1 2 3 4 5 \n"
     ]
    }
   ],
   "source": [
    "# printing first 6\n",
    "# whole number\n",
    "for i in range(6):\n",
    "    print(i, end=\" \")\n",
    "print()"
   ]
  },
  {
   "cell_type": "markdown",
   "id": "e8833fac",
   "metadata": {},
   "source": [
    "## Python range (start, stop)"
   ]
  },
  {
   "cell_type": "markdown",
   "id": "603d9eb3",
   "metadata": {},
   "source": [
    "#### Example:  Demonstration of Python range (start, stop)"
   ]
  },
  {
   "cell_type": "code",
   "execution_count": 4,
   "id": "132f2170",
   "metadata": {},
   "outputs": [
    {
     "name": "stdout",
     "output_type": "stream",
     "text": [
      "5 6 7 8 9 10 11 12 13 14 15 16 17 18 19 "
     ]
    }
   ],
   "source": [
    "# printing a natural\n",
    "# number from 5 to 20\n",
    "for i in range(5, 20):\n",
    "    print(i, end=\" \")"
   ]
  },
  {
   "cell_type": "markdown",
   "id": "0196282a",
   "metadata": {},
   "source": [
    "## Python range (start, stop, step)"
   ]
  },
  {
   "cell_type": "markdown",
   "id": "2c3ea300",
   "metadata": {},
   "source": [
    "#### Example:  Demonstration of Python range (start, stop, step)"
   ]
  },
  {
   "cell_type": "code",
   "execution_count": 5,
   "id": "be38c711",
   "metadata": {},
   "outputs": [
    {
     "name": "stdout",
     "output_type": "stream",
     "text": [
      "0 2 4 6 8 \n"
     ]
    }
   ],
   "source": [
    "for i in range(0, 10, 2):\n",
    "    print(i, end=\" \")\n",
    "print()"
   ]
  },
  {
   "cell_type": "markdown",
   "id": "2031559b",
   "metadata": {},
   "source": [
    "### Concatenation of two range() functions using itertools chain() method"
   ]
  },
  {
   "cell_type": "code",
   "execution_count": 6,
   "id": "efdcfc8d",
   "metadata": {},
   "outputs": [
    {
     "name": "stdout",
     "output_type": "stream",
     "text": [
      "Concatenating the result\n",
      "0 1 2 3 4 10 12 14 16 18 "
     ]
    }
   ],
   "source": [
    "from itertools import chain\n",
    " \n",
    "# Using chain method\n",
    "print(\"Concatenating the result\")\n",
    "res = chain(range(5), range(10, 20, 2))\n",
    " \n",
    "for i in res:\n",
    "    print(i, end=\" \")"
   ]
  },
  {
   "cell_type": "markdown",
   "id": "c91449d5",
   "metadata": {},
   "source": [
    "### Python range() using negative step"
   ]
  },
  {
   "cell_type": "code",
   "execution_count": 7,
   "id": "c1deff4f",
   "metadata": {},
   "outputs": [
    {
     "name": "stdout",
     "output_type": "stream",
     "text": [
      "25 23 21 19 17 15 13 11 9 7 5 3 \n"
     ]
    }
   ],
   "source": [
    "# incremented by -2\n",
    "for i in range(25, 2, -2):\n",
    "    print(i, end=\" \")\n",
    "print()"
   ]
  },
  {
   "cell_type": "markdown",
   "id": "aa07d2a9",
   "metadata": {},
   "source": [
    "### Accessing range() with an index value"
   ]
  },
  {
   "cell_type": "code",
   "execution_count": 8,
   "id": "a38163e0",
   "metadata": {},
   "outputs": [
    {
     "name": "stdout",
     "output_type": "stream",
     "text": [
      "First element: 0\n",
      "\n",
      "Last element: 9\n",
      "\n",
      "Fifth element: 4\n"
     ]
    }
   ],
   "source": [
    "ele = range(10)[0]\n",
    "print(\"First element:\", ele)\n",
    " \n",
    "ele = range(10)[-1]\n",
    "print(\"\\nLast element:\", ele)\n",
    " \n",
    "ele = range(10)[4]\n",
    "print(\"\\nFifth element:\", ele)"
   ]
  },
  {
   "cell_type": "markdown",
   "id": "7b99cdef",
   "metadata": {},
   "source": [
    "## Some Important points to remember about the Python range() function: "
   ]
  },
  {
   "cell_type": "markdown",
   "id": "a7da4063",
   "metadata": {},
   "source": [
    "### range() function only works with the integers, i.e. whole numbers.\n",
    "### All arguments must be integers. Users can not pass a string or float number or any other type in a start, stop and step argument of a range().\n",
    "### All three arguments can be positive or negative.\n",
    "### The step value must not be zero. If a step is zero, python raises a ValueError exception.\n",
    "### range() is a type in Python\n",
    "### Users can access items in a range() by index, just as users do with a list:"
   ]
  },
  {
   "cell_type": "code",
   "execution_count": null,
   "id": "b2e8512a",
   "metadata": {},
   "outputs": [],
   "source": []
  }
 ],
 "metadata": {
  "kernelspec": {
   "display_name": "Python 3 (ipykernel)",
   "language": "python",
   "name": "python3"
  },
  "language_info": {
   "codemirror_mode": {
    "name": "ipython",
    "version": 3
   },
   "file_extension": ".py",
   "mimetype": "text/x-python",
   "name": "python",
   "nbconvert_exporter": "python",
   "pygments_lexer": "ipython3",
   "version": "3.11.1"
  }
 },
 "nbformat": 4,
 "nbformat_minor": 5
}
