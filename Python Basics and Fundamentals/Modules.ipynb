{
 "cells": [
  {
   "cell_type": "markdown",
   "id": "3ddcadb1",
   "metadata": {},
   "source": [
    "# Modules"
   ]
  },
  {
   "cell_type": "markdown",
   "id": "4fe1989a",
   "metadata": {},
   "source": [
    "### Creating a simple calculator module"
   ]
  },
  {
   "cell_type": "code",
   "execution_count": 1,
   "id": "78fc814d",
   "metadata": {},
   "outputs": [],
   "source": [
    "# Module saved as Calc.py\n",
    "def add(x, y):\n",
    "    return (x+y)\n",
    " \n",
    "def subtract(x, y):\n",
    "    return (x-y)"
   ]
  },
  {
   "cell_type": "markdown",
   "id": "f8ea033f",
   "metadata": {},
   "source": [
    "### Import Created module:\n",
    "    Syntax: import module_name"
   ]
  },
  {
   "cell_type": "markdown",
   "id": "d7988a3e",
   "metadata": {},
   "source": [
    "## from - import statements "
   ]
  },
  {
   "cell_type": "code",
   "execution_count": 2,
   "id": "9b765af3",
   "metadata": {
    "scrolled": true
   },
   "outputs": [
    {
     "name": "stdout",
     "output_type": "stream",
     "text": [
      "4.0\n",
      "720\n"
     ]
    }
   ],
   "source": [
    "# importing sqrt() and factorial from the\n",
    "# module math\n",
    "\n",
    "from math import sqrt, factorial\n",
    " \n",
    "# if we simply do \"import math\", then\n",
    "# math.sqrt(16) and math.factorial()\n",
    "# are required.\n",
    "print(sqrt(16))\n",
    "print(factorial(6))"
   ]
  },
  {
   "cell_type": "markdown",
   "id": "936f4e9b",
   "metadata": {},
   "source": [
    "### Import all functions from the module:\n",
    "    Syntax: from module_name import *(star/astrik)"
   ]
  },
  {
   "cell_type": "code",
   "execution_count": 4,
   "id": "516ee568",
   "metadata": {},
   "outputs": [
    {
     "name": "stdout",
     "output_type": "stream",
     "text": [
      "4.0\n",
      "720\n"
     ]
    }
   ],
   "source": [
    "# importing sqrt() and factorial from the\n",
    "# module math\n",
    "\n",
    "from math import *\n",
    " \n",
    "# if we simply do \"import math\", then\n",
    "# math.sqrt(16) and math.factorial()\n",
    "# are required.\n",
    "print(sqrt(16))\n",
    "print(factorial(6))"
   ]
  },
  {
   "cell_type": "markdown",
   "id": "042f8bca",
   "metadata": {},
   "source": [
    "### The System module (sys):\n",
    "\n",
    "    importing sys module\n",
    "    import sys\n",
    "\n",
    "    printing sys.path\n",
    "    print(sys.path)"
   ]
  },
  {
   "cell_type": "markdown",
   "id": "a5abdb7a",
   "metadata": {},
   "source": [
    "## Importing the module with a custom name"
   ]
  },
  {
   "cell_type": "markdown",
   "id": "89d42ac2",
   "metadata": {},
   "source": [
    "### Syntax:  Import Module_name as Alias_name"
   ]
  },
  {
   "cell_type": "code",
   "execution_count": 9,
   "id": "48d38eea",
   "metadata": {},
   "outputs": [
    {
     "name": "stdout",
     "output_type": "stream",
     "text": [
      "4.0\n",
      "720\n"
     ]
    }
   ],
   "source": [
    "# importing sqrt() and factorial from the\n",
    "# module math\n",
    "\n",
    "import math as mt\n",
    " \n",
    "# if we simply do \"import math\", then\n",
    "# math.sqrt(16) and math.factorial()\n",
    "# are required.\n",
    "print(mt.sqrt(16))\n",
    "print(mt.factorial(6))"
   ]
  },
  {
   "cell_type": "markdown",
   "id": "2c1420ba",
   "metadata": {},
   "source": [
    "## Python built-in modules"
   ]
  },
  {
   "cell_type": "code",
   "execution_count": 10,
   "id": "2ac25073",
   "metadata": {},
   "outputs": [
    {
     "name": "stdout",
     "output_type": "stream",
     "text": [
      "5.0\n",
      "3.141592653589793\n",
      "114.59155902616465\n",
      "1.0471975511965976\n",
      "0.9092974268256817\n",
      "0.8775825618903728\n",
      "0.23414336235146527\n",
      "24\n",
      "5\n",
      "0.10030360077522926\n",
      "62.29621861826973\n",
      "hello\n",
      "1678788825.8845134\n",
      "1970-01-06\n"
     ]
    }
   ],
   "source": [
    "# importing built-in module math\n",
    "import math\n",
    "\n",
    "# using square root(sqrt) function contained\n",
    "# in math module\n",
    "print(math.sqrt(25))\n",
    "\n",
    "# using pi function contained in math module\n",
    "print(math.pi)\n",
    "\n",
    "# 2 radians = 114.59 degrees\n",
    "print(math.degrees(2))\n",
    "\n",
    "# 60 degrees = 1.04 radians\n",
    "print(math.radians(60))\n",
    "\n",
    "# Sine of 2 radians\n",
    "print(math.sin(2))\n",
    "\n",
    "# Cosine of 0.5 radians\n",
    "print(math.cos(0.5))\n",
    "\n",
    "# Tangent of 0.23 radians\n",
    "print(math.tan(0.23))\n",
    "\n",
    "# 1 * 2 * 3 * 4 = 24\n",
    "print(math.factorial(4))\n",
    "\n",
    "# importing built in module random\n",
    "import random\n",
    "\n",
    "# printing random integer between 0 and 5\n",
    "print(random.randint(0, 5))\n",
    "\n",
    "# print random floating point number between 0 and 1\n",
    "print(random.random())\n",
    "\n",
    "# random number between 0 and 100\n",
    "print(random.random() * 100)\n",
    "\n",
    "List = [1, 4, True, 800, \"python\", 27, \"hello\"]\n",
    "\n",
    "# using choice function in random module for choosing\n",
    "# a random element from a set such as a list\n",
    "print(random.choice(List))\n",
    "\n",
    "\n",
    "# importing built in module datetime\n",
    "import datetime\n",
    "from datetime import date\n",
    "import time\n",
    "\n",
    "# Returns the number of seconds since the\n",
    "# Unix Epoch, January 1st 1970\n",
    "print(time.time())\n",
    "\n",
    "# Converts a number of seconds to a date object\n",
    "print(date.fromtimestamp(454554))"
   ]
  },
  {
   "cell_type": "code",
   "execution_count": null,
   "id": "dde00f51",
   "metadata": {},
   "outputs": [],
   "source": []
  }
 ],
 "metadata": {
  "kernelspec": {
   "display_name": "Python 3 (ipykernel)",
   "language": "python",
   "name": "python3"
  },
  "language_info": {
   "codemirror_mode": {
    "name": "ipython",
    "version": 3
   },
   "file_extension": ".py",
   "mimetype": "text/x-python",
   "name": "python",
   "nbconvert_exporter": "python",
   "pygments_lexer": "ipython3",
   "version": "3.11.1"
  }
 },
 "nbformat": 4,
 "nbformat_minor": 5
}
