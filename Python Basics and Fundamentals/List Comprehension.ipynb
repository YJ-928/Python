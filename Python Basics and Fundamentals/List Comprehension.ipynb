{
 "cells": [
  {
   "cell_type": "markdown",
   "id": "5e946186",
   "metadata": {},
   "source": [
    "# List Comprehension"
   ]
  },
  {
   "cell_type": "markdown",
   "id": "136ef5f2",
   "metadata": {},
   "source": [
    "### Syntax of  List Comprehension"
   ]
  },
  {
   "cell_type": "markdown",
   "id": "16a08c86",
   "metadata": {},
   "source": [
    "### newList = [ expression(element) for element in oldList if condition ]"
   ]
  },
  {
   "cell_type": "markdown",
   "id": "2a085aac",
   "metadata": {},
   "source": [
    "### Example of List Comprehension in Python"
   ]
  },
  {
   "cell_type": "markdown",
   "id": "e3d86885",
   "metadata": {},
   "source": [
    "#### Example 1: Iteration with List comprehension"
   ]
  },
  {
   "cell_type": "code",
   "execution_count": 3,
   "id": "928805b5",
   "metadata": {},
   "outputs": [
    {
     "name": "stdout",
     "output_type": "stream",
     "text": [
      "[3, 4, 5]\n"
     ]
    }
   ],
   "source": [
    "# Using list comprehension to iterate through loop\n",
    "List = [character for character in [1,2,3,4,5] if character >= 3]\n",
    " \n",
    "# Displaying list\n",
    "print(List)"
   ]
  },
  {
   "cell_type": "markdown",
   "id": "3d382d5c",
   "metadata": {},
   "source": [
    "#### Example 2: Even list using list comprehension"
   ]
  },
  {
   "cell_type": "code",
   "execution_count": 4,
   "id": "b1341303",
   "metadata": {},
   "outputs": [
    {
     "name": "stdout",
     "output_type": "stream",
     "text": [
      "[0, 2, 4, 6, 8, 10, 12, 14, 16, 18, 20, 22, 24, 26, 28]\n"
     ]
    }
   ],
   "source": [
    "list = [i for i in range(29) if i % 2 == 0]\n",
    "print(list)"
   ]
  },
  {
   "cell_type": "markdown",
   "id": "2447a288",
   "metadata": {},
   "source": [
    "#### Example 2b: Odd list using list comprehension"
   ]
  },
  {
   "cell_type": "code",
   "execution_count": 5,
   "id": "9db13ede",
   "metadata": {},
   "outputs": [
    {
     "name": "stdout",
     "output_type": "stream",
     "text": [
      "[1, 3, 5, 7, 9, 11, 13, 15, 17, 19, 21, 23, 25, 27]\n"
     ]
    }
   ],
   "source": [
    "list = [i for i in range(29) if i % 2 != 0]\n",
    "print(list)"
   ]
  },
  {
   "cell_type": "markdown",
   "id": "b25195a4",
   "metadata": {},
   "source": [
    "### Nested List Comprhension"
   ]
  },
  {
   "cell_type": "markdown",
   "id": "ca1997b7",
   "metadata": {},
   "source": [
    "#### Example 3: Matrix using List comprehension"
   ]
  },
  {
   "cell_type": "code",
   "execution_count": 6,
   "id": "33f18694",
   "metadata": {},
   "outputs": [
    {
     "name": "stdout",
     "output_type": "stream",
     "text": [
      "[[0, 1, 2, 3, 4], [0, 1, 2, 3, 4], [0, 1, 2, 3, 4], [0, 1, 2, 3, 4], [0, 1, 2, 3, 4]]\n"
     ]
    }
   ],
   "source": [
    "matrix = [[j for j in range(5)] for i in range(5)]\n",
    "print(matrix)"
   ]
  },
  {
   "cell_type": "markdown",
   "id": "d4ab34dc",
   "metadata": {},
   "source": [
    "### List Comprehensions and Lambda Fucntion "
   ]
  },
  {
   "cell_type": "markdown",
   "id": "23b03408",
   "metadata": {},
   "source": [
    "#### Example 4: To print Table of 10"
   ]
  },
  {
   "cell_type": "code",
   "execution_count": 7,
   "id": "2415157a",
   "metadata": {},
   "outputs": [
    {
     "name": "stdout",
     "output_type": "stream",
     "text": [
      "[10, 20, 30, 40, 50, 60, 70, 80, 90, 100]\n"
     ]
    }
   ],
   "source": [
    "Table = [i*10 for i in range(1,11)]\n",
    "print(Table)"
   ]
  },
  {
   "cell_type": "markdown",
   "id": "404541c8",
   "metadata": {},
   "source": [
    "#### Example 4b: Lambda + List Comprehension"
   ]
  },
  {
   "cell_type": "code",
   "execution_count": 3,
   "id": "49e5354c",
   "metadata": {},
   "outputs": [
    {
     "name": "stdout",
     "output_type": "stream",
     "text": [
      "[10, 20, 30, 40, 50, 60, 70, 80, 90, 100]\n"
     ]
    }
   ],
   "source": [
    "# using lambda to print table of 10\n",
    "numbers = list(map(lambda i: i*10, [i for i in range(1, 11)]))\n",
    "\n",
    "print(numbers)"
   ]
  },
  {
   "cell_type": "markdown",
   "id": "1eb300d9",
   "metadata": {},
   "source": [
    "### Using Conditions in List Comprehensions"
   ]
  },
  {
   "cell_type": "markdown",
   "id": "fc9459f9",
   "metadata": {},
   "source": [
    "#### Example 1: Python List Comprehension Using If-else"
   ]
  },
  {
   "cell_type": "code",
   "execution_count": 9,
   "id": "c99a1489",
   "metadata": {},
   "outputs": [
    {
     "name": "stdout",
     "output_type": "stream",
     "text": [
      "['Even number', 'Odd number', 'Even number', 'Odd number', 'Even number', 'Odd number', 'Even number', 'Odd number', 'Even number', 'Odd number']\n"
     ]
    }
   ],
   "source": [
    "lis = [\"Even number\" if i % 2 == 0\n",
    "       else \"Odd number\" for i in range(10)]\n",
    "print(lis)"
   ]
  },
  {
   "cell_type": "markdown",
   "id": "a449a6d9",
   "metadata": {},
   "source": [
    "#### Example 2: Nested IF with List Comprehension "
   ]
  },
  {
   "cell_type": "code",
   "execution_count": 10,
   "id": "0efff5aa",
   "metadata": {},
   "outputs": [
    {
     "name": "stdout",
     "output_type": "stream",
     "text": [
      "[0, 10, 20, 30, 40, 50, 60, 70, 80, 90]\n"
     ]
    }
   ],
   "source": [
    "lis = [num for num in range(100)\n",
    "       if num % 5 == 0 if num % 10 == 0]\n",
    "print(lis)"
   ]
  },
  {
   "cell_type": "markdown",
   "id": "91aa2cbb",
   "metadata": {},
   "source": [
    "#### Example 3: Display square of numbers from 1 to 10."
   ]
  },
  {
   "cell_type": "code",
   "execution_count": 11,
   "id": "8eca66c5",
   "metadata": {},
   "outputs": [
    {
     "name": "stdout",
     "output_type": "stream",
     "text": [
      "[1, 4, 9, 16, 25, 36, 49, 64, 81, 100]\n"
     ]
    }
   ],
   "source": [
    "# Getting square of number from 1 to 10\n",
    "squares = [n**2 for n in range(1, 11)]\n",
    " \n",
    "# Display square of even numbers\n",
    "print(squares)"
   ]
  },
  {
   "cell_type": "markdown",
   "id": "5a35c939",
   "metadata": {},
   "source": [
    "#### Example 4: Display Transpose of 2D- Matrix."
   ]
  },
  {
   "cell_type": "code",
   "execution_count": 12,
   "id": "cb1b887b",
   "metadata": {},
   "outputs": [
    {
     "name": "stdout",
     "output_type": "stream",
     "text": [
      "[[10, 40, 70], [20, 50, 80], [30, 60, 90]]\n"
     ]
    }
   ],
   "source": [
    "# Assign matrix\n",
    "twoDMatrix = [[10, 20, 30],\n",
    "              [40, 50, 60],\n",
    "              [70, 80, 90]]\n",
    " \n",
    "# Generate transpose\n",
    "trans = [[i[j] for i in twoDMatrix] for j in range(len(twoDMatrix[0]))]\n",
    " \n",
    "print(trans)"
   ]
  },
  {
   "cell_type": "markdown",
   "id": "79481ee1",
   "metadata": {},
   "source": [
    "#### Example 5: Toggle the case of each character in a string. "
   ]
  },
  {
   "cell_type": "code",
   "execution_count": 2,
   "id": "104a9422",
   "metadata": {},
   "outputs": [
    {
     "name": "stdout",
     "output_type": "stream",
     "text": [
      "['y', 'A', 'S', 'H', 'b', 'j', 'O', 'S', 'H', 'I']\n"
     ]
    }
   ],
   "source": [
    "# Initializing string\n",
    "string = 'YashBJoshi'\n",
    "\n",
    "# Toggle case of each character\n",
    "List = list((map(lambda i: chr(ord(i) ^ 32), string)))\n",
    "\n",
    "# Display list\n",
    "print(List)"
   ]
  },
  {
   "cell_type": "markdown",
   "id": "b19b2f70",
   "metadata": {},
   "source": [
    "#### Example 6: Reverse each string in a tuple. "
   ]
  },
  {
   "cell_type": "code",
   "execution_count": 14,
   "id": "ab4f5775",
   "metadata": {},
   "outputs": [
    {
     "name": "stdout",
     "output_type": "stream",
     "text": [
      "['hsaY', 'JBY', 'ihsoJ']\n"
     ]
    }
   ],
   "source": [
    "# Reverse each string in tuple\n",
    "List = [string[::-1] for string in ('Yash', 'YBJ', 'Joshi')]\n",
    "\n",
    "# Display list\n",
    "print(List)"
   ]
  }
 ],
 "metadata": {
  "kernelspec": {
   "display_name": "Python 3 (ipykernel)",
   "language": "python",
   "name": "python3"
  },
  "language_info": {
   "codemirror_mode": {
    "name": "ipython",
    "version": 3
   },
   "file_extension": ".py",
   "mimetype": "text/x-python",
   "name": "python",
   "nbconvert_exporter": "python",
   "pygments_lexer": "ipython3",
   "version": "3.11.1"
  }
 },
 "nbformat": 4,
 "nbformat_minor": 5
}
